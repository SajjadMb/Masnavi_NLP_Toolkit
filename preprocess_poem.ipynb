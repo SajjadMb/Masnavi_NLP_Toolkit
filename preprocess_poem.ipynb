{
  "cells": [
    {
      "cell_type": "markdown",
      "source": [
        "### Install required libraries"
      ],
      "metadata": {
        "id": "ukimSQ7Qw-nI"
      },
      "id": "ukimSQ7Qw-nI"
    },
    {
      "cell_type": "code",
      "execution_count": 1,
      "id": "bf72da55",
      "metadata": {
        "id": "bf72da55",
        "colab": {
          "base_uri": "https://localhost:8080/"
        },
        "outputId": "79b8a086-679e-494c-9fe7-9e86a167e0d4"
      },
      "outputs": [
        {
          "output_type": "stream",
          "name": "stdout",
          "text": [
            "Requirement already satisfied: hazm in /usr/local/lib/python3.7/dist-packages (0.7.0)\n",
            "Requirement already satisfied: libwapiti>=0.2.1 in /usr/local/lib/python3.7/dist-packages (from hazm) (0.2.1)\n",
            "Collecting nltk==3.3\n",
            "  Using cached nltk-3.3-py3-none-any.whl\n",
            "Requirement already satisfied: six in /usr/local/lib/python3.7/dist-packages (from nltk==3.3->hazm) (1.15.0)\n",
            "Installing collected packages: nltk\n",
            "  Attempting uninstall: nltk\n",
            "    Found existing installation: nltk 3.4.5\n",
            "    Uninstalling nltk-3.4.5:\n",
            "      Successfully uninstalled nltk-3.4.5\n",
            "\u001b[31mERROR: pip's dependency resolver does not currently take into account all the packages that are installed. This behaviour is the source of the following dependency conflicts.\n",
            "parsivar 0.2.3 requires nltk==3.4.5, but you have nltk 3.3 which is incompatible.\u001b[0m\n",
            "Successfully installed nltk-3.3\n",
            "Requirement already satisfied: gensim in /usr/local/lib/python3.7/dist-packages (3.6.0)\n",
            "Requirement already satisfied: numpy>=1.11.3 in /usr/local/lib/python3.7/dist-packages (from gensim) (1.19.5)\n",
            "Requirement already satisfied: scipy>=0.18.1 in /usr/local/lib/python3.7/dist-packages (from gensim) (1.4.1)\n",
            "Requirement already satisfied: six>=1.5.0 in /usr/local/lib/python3.7/dist-packages (from gensim) (1.15.0)\n",
            "Requirement already satisfied: smart-open>=1.2.1 in /usr/local/lib/python3.7/dist-packages (from gensim) (5.2.1)\n",
            "Requirement already satisfied: pandas in /usr/local/lib/python3.7/dist-packages (1.1.5)\n",
            "Requirement already satisfied: pytz>=2017.2 in /usr/local/lib/python3.7/dist-packages (from pandas) (2018.9)\n",
            "Requirement already satisfied: numpy>=1.15.4 in /usr/local/lib/python3.7/dist-packages (from pandas) (1.19.5)\n",
            "Requirement already satisfied: python-dateutil>=2.7.3 in /usr/local/lib/python3.7/dist-packages (from pandas) (2.8.2)\n",
            "Requirement already satisfied: six>=1.5 in /usr/local/lib/python3.7/dist-packages (from python-dateutil>=2.7.3->pandas) (1.15.0)\n",
            "Requirement already satisfied: arabic_reshaper in /usr/local/lib/python3.7/dist-packages (2.1.3)\n",
            "Requirement already satisfied: setuptools in /usr/local/lib/python3.7/dist-packages (from arabic_reshaper) (57.4.0)\n",
            "Requirement already satisfied: future in /usr/local/lib/python3.7/dist-packages (from arabic_reshaper) (0.16.0)\n",
            "Requirement already satisfied: python-bidi in /usr/local/lib/python3.7/dist-packages (0.4.2)\n",
            "Requirement already satisfied: six in /usr/local/lib/python3.7/dist-packages (from python-bidi) (1.15.0)\n",
            "Requirement already satisfied: seaborn in /usr/local/lib/python3.7/dist-packages (0.11.2)\n",
            "Requirement already satisfied: matplotlib>=2.2 in /usr/local/lib/python3.7/dist-packages (from seaborn) (3.2.2)\n",
            "Requirement already satisfied: numpy>=1.15 in /usr/local/lib/python3.7/dist-packages (from seaborn) (1.19.5)\n",
            "Requirement already satisfied: pandas>=0.23 in /usr/local/lib/python3.7/dist-packages (from seaborn) (1.1.5)\n",
            "Requirement already satisfied: scipy>=1.0 in /usr/local/lib/python3.7/dist-packages (from seaborn) (1.4.1)\n",
            "Requirement already satisfied: kiwisolver>=1.0.1 in /usr/local/lib/python3.7/dist-packages (from matplotlib>=2.2->seaborn) (1.3.2)\n",
            "Requirement already satisfied: cycler>=0.10 in /usr/local/lib/python3.7/dist-packages (from matplotlib>=2.2->seaborn) (0.11.0)\n",
            "Requirement already satisfied: python-dateutil>=2.1 in /usr/local/lib/python3.7/dist-packages (from matplotlib>=2.2->seaborn) (2.8.2)\n",
            "Requirement already satisfied: pyparsing!=2.0.4,!=2.1.2,!=2.1.6,>=2.0.1 in /usr/local/lib/python3.7/dist-packages (from matplotlib>=2.2->seaborn) (3.0.6)\n",
            "Requirement already satisfied: pytz>=2017.2 in /usr/local/lib/python3.7/dist-packages (from pandas>=0.23->seaborn) (2018.9)\n",
            "Requirement already satisfied: six>=1.5 in /usr/local/lib/python3.7/dist-packages (from python-dateutil>=2.1->matplotlib>=2.2->seaborn) (1.15.0)\n",
            "Requirement already satisfied: parsivar in /usr/local/lib/python3.7/dist-packages (0.2.3)\n",
            "Collecting nltk==3.4.5\n",
            "  Using cached nltk-3.4.5-py3-none-any.whl\n",
            "Requirement already satisfied: six in /usr/local/lib/python3.7/dist-packages (from nltk==3.4.5->parsivar) (1.15.0)\n",
            "Installing collected packages: nltk\n",
            "  Attempting uninstall: nltk\n",
            "    Found existing installation: nltk 3.3\n",
            "    Uninstalling nltk-3.3:\n",
            "      Successfully uninstalled nltk-3.3\n",
            "\u001b[31mERROR: pip's dependency resolver does not currently take into account all the packages that are installed. This behaviour is the source of the following dependency conflicts.\n",
            "hazm 0.7.0 requires nltk==3.3, but you have nltk 3.4.5 which is incompatible.\u001b[0m\n",
            "Successfully installed nltk-3.4.5\n",
            "Requirement already satisfied: stanza in /usr/local/lib/python3.7/dist-packages (1.3.0)\n",
            "Requirement already satisfied: six in /usr/local/lib/python3.7/dist-packages (from stanza) (1.15.0)\n",
            "Requirement already satisfied: numpy in /usr/local/lib/python3.7/dist-packages (from stanza) (1.19.5)\n",
            "Requirement already satisfied: emoji in /usr/local/lib/python3.7/dist-packages (from stanza) (1.6.1)\n",
            "Requirement already satisfied: tqdm in /usr/local/lib/python3.7/dist-packages (from stanza) (4.62.3)\n",
            "Requirement already satisfied: protobuf in /usr/local/lib/python3.7/dist-packages (from stanza) (3.17.3)\n",
            "Requirement already satisfied: requests in /usr/local/lib/python3.7/dist-packages (from stanza) (2.23.0)\n",
            "Requirement already satisfied: torch>=1.3.0 in /usr/local/lib/python3.7/dist-packages (from stanza) (1.10.0+cu111)\n",
            "Requirement already satisfied: typing-extensions in /usr/local/lib/python3.7/dist-packages (from torch>=1.3.0->stanza) (3.10.0.2)\n",
            "Requirement already satisfied: chardet<4,>=3.0.2 in /usr/local/lib/python3.7/dist-packages (from requests->stanza) (3.0.4)\n",
            "Requirement already satisfied: certifi>=2017.4.17 in /usr/local/lib/python3.7/dist-packages (from requests->stanza) (2021.10.8)\n",
            "Requirement already satisfied: idna<3,>=2.5 in /usr/local/lib/python3.7/dist-packages (from requests->stanza) (2.10)\n",
            "Requirement already satisfied: urllib3!=1.25.0,!=1.25.1,<1.26,>=1.21.1 in /usr/local/lib/python3.7/dist-packages (from requests->stanza) (1.24.3)\n"
          ]
        }
      ],
      "source": [
        "! pip install hazm\n",
        "! pip install gensim\n",
        "! pip -q install clean-text[gpl]\n",
        "! pip install pandas\n",
        "! pip install arabic_reshaper\n",
        "! pip install python-bidi\n",
        "! pip install seaborn\n",
        "! pip install parsivar\n",
        "! pip install stanza\n",
        "!pip install -q findspark"
      ]
    },
    {
      "cell_type": "code",
      "source": [
        "!wget https://bin.equinox.io/c/4VmDzA7iaHb/ngrok-stable-linux-amd64.zip\n",
        "!unzip ngrok-stable-linux-amd64.zip\n",
        "get_ipython().system_raw('./ngrok http 4050 &')"
      ],
      "metadata": {
        "colab": {
          "base_uri": "https://localhost:8080/"
        },
        "id": "bUWluKEra9Fo",
        "outputId": "90562841-98d1-4710-b2d9-1b10a6f39aab"
      },
      "id": "bUWluKEra9Fo",
      "execution_count": 2,
      "outputs": [
        {
          "output_type": "stream",
          "name": "stdout",
          "text": [
            "--2021-12-13 18:48:46--  https://bin.equinox.io/c/4VmDzA7iaHb/ngrok-stable-linux-amd64.zip\n",
            "Resolving bin.equinox.io (bin.equinox.io)... 54.237.133.81, 54.161.241.46, 18.205.222.128, ...\n",
            "Connecting to bin.equinox.io (bin.equinox.io)|54.237.133.81|:443... connected.\n",
            "HTTP request sent, awaiting response... 200 OK\n",
            "Length: 13832437 (13M) [application/octet-stream]\n",
            "Saving to: ‘ngrok-stable-linux-amd64.zip.2’\n",
            "\n",
            "ngrok-stable-linux- 100%[===================>]  13.19M  54.1MB/s    in 0.2s    \n",
            "\n",
            "2021-12-13 18:48:46 (54.1 MB/s) - ‘ngrok-stable-linux-amd64.zip.2’ saved [13832437/13832437]\n",
            "\n",
            "Archive:  ngrok-stable-linux-amd64.zip\n",
            "replace ngrok? [y]es, [n]o, [A]ll, [N]one, [r]ename: A\n",
            "  inflating: ngrok                   \n"
          ]
        }
      ]
    },
    {
      "cell_type": "markdown",
      "source": [
        "### Install Open JDK for Spark and Hadoop"
      ],
      "metadata": {
        "id": "D2uhiNMmxyZV"
      },
      "id": "D2uhiNMmxyZV"
    },
    {
      "cell_type": "code",
      "source": [
        "!apt-get install openjdk-8-jdk-headless -qq > /dev/null\n",
        "!wget -q https://dlcdn.apache.org/spark/spark-3.2.0/spark-3.2.0-bin-hadoop3.2.tgz\n",
        "!tar xf spark-3.2.0-bin-hadoop3.2.tgz"
      ],
      "metadata": {
        "id": "ejw0UL0xbPx4"
      },
      "id": "ejw0UL0xbPx4",
      "execution_count": 3,
      "outputs": []
    },
    {
      "cell_type": "markdown",
      "source": [
        "### Download Masnavi corpus to work on"
      ],
      "metadata": {
        "id": "PBhSBFK-x7WK"
      },
      "id": "PBhSBFK-x7WK"
    },
    {
      "cell_type": "code",
      "source": [
        "!wget https://raw.githubusercontent.com/SajjadMb/Masnavi_NLP_Toolkit/main/masnavi.txt?token=AF4HC2VV75CFQKTTASY7GXDBX5N2Y\n",
        "!mv masnavi.txt?token=AF4HC2VV75CFQKTTASY7GXDBX5N2Y masnavi.txt"
      ],
      "metadata": {
        "colab": {
          "base_uri": "https://localhost:8080/"
        },
        "id": "ESfjwbiOcdsp",
        "outputId": "fd0c6367-2530-41b1-ae92-ca215e937afd"
      },
      "id": "ESfjwbiOcdsp",
      "execution_count": 4,
      "outputs": [
        {
          "output_type": "stream",
          "name": "stdout",
          "text": [
            "--2021-12-13 18:49:56--  https://raw.githubusercontent.com/SajjadMb/Masnavi_NLP_Toolkit/main/masnavi.txt?token=AF4HC2VV75CFQKTTASY7GXDBX5N2Y\n",
            "Resolving raw.githubusercontent.com (raw.githubusercontent.com)... 185.199.108.133, 185.199.109.133, 185.199.110.133, ...\n",
            "Connecting to raw.githubusercontent.com (raw.githubusercontent.com)|185.199.108.133|:443... connected.\n",
            "HTTP request sent, awaiting response... 200 OK\n",
            "Length: 3090459 (2.9M) [text/plain]\n",
            "Saving to: ‘masnavi.txt?token=AF4HC2VV75CFQKTTASY7GXDBX5N2Y’\n",
            "\n",
            "masnavi.txt?token=A 100%[===================>]   2.95M  --.-KB/s    in 0.07s   \n",
            "\n",
            "2021-12-13 18:49:57 (40.4 MB/s) - ‘masnavi.txt?token=AF4HC2VV75CFQKTTASY7GXDBX5N2Y’ saved [3090459/3090459]\n",
            "\n"
          ]
        }
      ]
    },
    {
      "cell_type": "markdown",
      "source": [
        "### Download Stopwords (I added some necessary stop words after studying the corpus)"
      ],
      "metadata": {
        "id": "l8An1GILyDkE"
      },
      "id": "l8An1GILyDkE"
    },
    {
      "cell_type": "code",
      "source": [
        "!wget https://raw.githubusercontent.com/SajjadMb/Masnavi_NLP_Toolkit/main/stopwords.txt?token=AF4HC2UWVYPTWNSXDWDW6RTBX5OMU\n",
        "!mv stopwords.txt?token=AF4HC2UWVYPTWNSXDWDW6RTBX5OMU stopwords.txt"
      ],
      "metadata": {
        "colab": {
          "base_uri": "https://localhost:8080/"
        },
        "id": "QDiPcGeIdh8a",
        "outputId": "272457ee-f2fb-4c73-c7cf-8d7b7db13b30"
      },
      "id": "QDiPcGeIdh8a",
      "execution_count": 5,
      "outputs": [
        {
          "output_type": "stream",
          "name": "stdout",
          "text": [
            "--2021-12-13 18:49:57--  https://raw.githubusercontent.com/SajjadMb/Masnavi_NLP_Toolkit/main/stopwords.txt?token=AF4HC2UWVYPTWNSXDWDW6RTBX5OMU\n",
            "Resolving raw.githubusercontent.com (raw.githubusercontent.com)... 185.199.108.133, 185.199.109.133, 185.199.110.133, ...\n",
            "Connecting to raw.githubusercontent.com (raw.githubusercontent.com)|185.199.108.133|:443... connected.\n",
            "HTTP request sent, awaiting response... 200 OK\n",
            "Length: 15569 (15K) [text/plain]\n",
            "Saving to: ‘stopwords.txt?token=AF4HC2UWVYPTWNSXDWDW6RTBX5OMU’\n",
            "\n",
            "\r          stopwords   0%[                    ]       0  --.-KB/s               \rstopwords.txt?token 100%[===================>]  15.20K  --.-KB/s    in 0.001s  \n",
            "\n",
            "2021-12-13 18:49:57 (27.6 MB/s) - ‘stopwords.txt?token=AF4HC2UWVYPTWNSXDWDW6RTBX5OMU’ saved [15569/15569]\n",
            "\n"
          ]
        }
      ]
    },
    {
      "cell_type": "markdown",
      "source": [
        "### Import Libraries"
      ],
      "metadata": {
        "id": "xHA036x9ybal"
      },
      "id": "xHA036x9ybal"
    },
    {
      "cell_type": "code",
      "execution_count": 6,
      "id": "e6f064f8",
      "metadata": {
        "id": "e6f064f8"
      },
      "outputs": [],
      "source": [
        "import pandas as pd\n",
        "import numpy as np\n",
        "import re\n",
        "from __future__ import unicode_literals\n",
        "import hazm\n",
        "import nltk\n",
        "import codecs\n",
        "import tqdm\n",
        "import gensim\n",
        "from cleantext import clean"
      ]
    },
    {
      "cell_type": "markdown",
      "id": "307f1a1c",
      "metadata": {
        "id": "307f1a1c"
      },
      "source": [
        "### Plot Utils\n",
        "following function is responsible for plotting top 8 common categories resulting from LDA and NMF algorithms"
      ]
    },
    {
      "cell_type": "code",
      "execution_count": 7,
      "id": "054f2120",
      "metadata": {
        "id": "054f2120"
      },
      "outputs": [],
      "source": [
        "def plot_top_words(model, feature_names, n_top_words, title):\n",
        "    fig, axes = plt.subplots(2, 5, figsize=(30, 15), sharex=True)\n",
        "    axes = axes.flatten()\n",
        "    for topic_idx, topic in enumerate(model.components_):\n",
        "        top_features_ind = topic.argsort()[: -n_top_words - 1 : -1]\n",
        "        top_features = [feature_names[i] for i in top_features_ind]\n",
        "        weights = topic[top_features_ind]\n",
        "\n",
        "        ax = axes[topic_idx]\n",
        "        ax.barh(top_features, weights, height=0.7)\n",
        "        ax.set_title(f\"Topic {topic_idx +1}\", fontdict={\"fontsize\": 30})\n",
        "        ax.invert_yaxis()\n",
        "        ax.tick_params(axis=\"both\", which=\"major\", labelsize=20)\n",
        "        for i in \"top right left\".split():\n",
        "            ax.spines[i].set_visible(False)\n",
        "        fig.suptitle(title, fontsize=40)\n",
        "\n",
        "    plt.subplots_adjust(top=0.90, bottom=0.05, wspace=0.90, hspace=0.3)\n",
        "    plt.show()"
      ]
    },
    {
      "cell_type": "markdown",
      "source": [
        "### Label Persian Compatibility\n",
        "following functions are needed to print persian labels on plot in right to left direction"
      ],
      "metadata": {
        "id": "KUoE1FPXy7Lh"
      },
      "id": "KUoE1FPXy7Lh"
    },
    {
      "cell_type": "code",
      "execution_count": 8,
      "id": "76b396f5",
      "metadata": {
        "id": "76b396f5"
      },
      "outputs": [],
      "source": [
        "from arabic_reshaper import reshape\n",
        "from bidi.algorithm import get_display\n",
        "import seaborn as sns"
      ]
    },
    {
      "cell_type": "code",
      "execution_count": 9,
      "id": "19a41335",
      "metadata": {
        "id": "19a41335"
      },
      "outputs": [],
      "source": [
        "def make_farsi_text(x):\n",
        "    if x == 'الله':\n",
        "        return 'هللا'\n",
        "    reshaped_text = reshape(x)\n",
        "    farsi_text = get_display(reshaped_text)\n",
        "    return farsi_text"
      ]
    },
    {
      "cell_type": "markdown",
      "id": "7ea38f39",
      "metadata": {
        "id": "7ea38f39"
      },
      "source": [
        "### Load DataSet from `masnavi.txt`"
      ]
    },
    {
      "cell_type": "code",
      "execution_count": 10,
      "id": "3d9573bd",
      "metadata": {
        "id": "3d9573bd"
      },
      "outputs": [],
      "source": [
        "with open('masnavi.txt', 'r', encoding=\"utf8\") as infile:\n",
        "    masnavi_file = infile.readlines()"
      ]
    },
    {
      "cell_type": "markdown",
      "source": [
        "### Load Stopwords from `stopwords.txt`"
      ],
      "metadata": {
        "id": "vMi5B90wzjK7"
      },
      "id": "vMi5B90wzjK7"
    },
    {
      "cell_type": "code",
      "execution_count": 11,
      "id": "87ab2ebf",
      "metadata": {
        "id": "87ab2ebf"
      },
      "outputs": [],
      "source": [
        "stopwords = [x.strip() for x in codecs.open('stopwords.txt','r','utf-8').readlines()]"
      ]
    },
    {
      "cell_type": "markdown",
      "source": [
        "### Instantiate Hazm Normalizer into `normalizer` variable"
      ],
      "metadata": {
        "id": "ry08WEZ4zwSy"
      },
      "id": "ry08WEZ4zwSy"
    },
    {
      "cell_type": "code",
      "execution_count": 12,
      "id": "75e90b41",
      "metadata": {
        "id": "75e90b41"
      },
      "outputs": [],
      "source": [
        "normalizer = hazm.Normalizer()"
      ]
    },
    {
      "cell_type": "code",
      "execution_count": 13,
      "id": "5e539074",
      "metadata": {
        "colab": {
          "base_uri": "https://localhost:8080/",
          "height": 35
        },
        "id": "5e539074",
        "outputId": "c8bbb23e-0969-41e3-c76a-a0d41cd679fd"
      },
      "outputs": [
        {
          "output_type": "execute_result",
          "data": {
            "application/vnd.google.colaboratory.intrinsic+json": {
              "type": "string"
            },
            "text/plain": [
              "'آتشی عشق کاندر نی فتاد'"
            ]
          },
          "metadata": {},
          "execution_count": 13
        }
      ],
      "source": [
        "normalizer.normalize('آتشی عشق کاندر نی فتاد')"
      ]
    },
    {
      "cell_type": "markdown",
      "source": [
        "### Instantiate Hazm Lemmatizer into `lemmatizer` variable"
      ],
      "metadata": {
        "id": "VodS0wQxz8Jd"
      },
      "id": "VodS0wQxz8Jd"
    },
    {
      "cell_type": "code",
      "execution_count": 14,
      "id": "cffc0049",
      "metadata": {
        "id": "cffc0049"
      },
      "outputs": [],
      "source": [
        "lemmatizer = hazm.Lemmatizer()"
      ]
    },
    {
      "cell_type": "code",
      "source": [
        "lemmatizer.lemmatize('آتشی عشق کاندر نی فتاد')"
      ],
      "metadata": {
        "colab": {
          "base_uri": "https://localhost:8080/",
          "height": 35
        },
        "id": "Zgw5pziW3Lrd",
        "outputId": "793db9cb-2ecc-4c5e-a014-cd0c67457ab3"
      },
      "id": "Zgw5pziW3Lrd",
      "execution_count": 15,
      "outputs": [
        {
          "output_type": "execute_result",
          "data": {
            "application/vnd.google.colaboratory.intrinsic+json": {
              "type": "string"
            },
            "text/plain": [
              "'آتشی عشق کاندر نی فتاد'"
            ]
          },
          "metadata": {},
          "execution_count": 15
        }
      ]
    },
    {
      "cell_type": "markdown",
      "source": [
        "### Remove Space patterns regex\n",
        "The following function returns regex appropriate to omit unwanted spaces in text."
      ],
      "metadata": {
        "id": "n6gAWRZj0Qiv"
      },
      "id": "n6gAWRZj0Qiv"
    },
    {
      "cell_type": "code",
      "execution_count": 16,
      "id": "d0855eed",
      "metadata": {
        "id": "d0855eed"
      },
      "outputs": [],
      "source": [
        "def remove_spaces_reg():\n",
        "    # return space patterns\n",
        "    space_pattern = r\"[\\xad\\ufeff\\u200e\\u200d\\u200b\\x7f\\u202a\\u2003\\xa0\\u206e\\u200c\\x9d]\"\n",
        "    return re.compile(space_pattern)"
      ]
    },
    {
      "cell_type": "markdown",
      "source": [
        "### Remove Symbols and Punctuation patterns regex\n",
        "The following function returns regex appropriate to omit unwanted symbols and punctuations in text."
      ],
      "metadata": {
        "id": "RyGco5KT0sCp"
      },
      "id": "RyGco5KT0sCp"
    },
    {
      "cell_type": "code",
      "execution_count": 17,
      "id": "69c47070",
      "metadata": {
        "id": "69c47070"
      },
      "outputs": [],
      "source": [
        "def remove_symbols_reg():\n",
        "    # return symbol patterns\n",
        "    symbol_patterns = r\"(\\d|\\\"|'ٍ|¬|[؛“،,”‘۔’’‘–]|[|\\.÷+\\:\\-\\?»\\=\\{}\\*«»_…\\؟!/ـ]|[۰'ٓ۫'ٔ]|[ٓٔ]|[ًٌٍْﹼ،َُِّ«ٰ»ٖء])\"\n",
        "    return re.compile(symbol_patterns)"
      ]
    },
    {
      "cell_type": "markdown",
      "source": [
        "### Convert Arabic alphabet to persian alphabet\n",
        "The following function converts the Arabic alphabet in text into the corresponding Persian one."
      ],
      "metadata": {
        "id": "0VAQr-5L01gS"
      },
      "id": "0VAQr-5L01gS"
    },
    {
      "cell_type": "code",
      "execution_count": 18,
      "id": "48feee03",
      "metadata": {
        "id": "48feee03"
      },
      "outputs": [],
      "source": [
        "def remeove_arabic(text):\n",
        "    # remove arabic alphabet\n",
        "    mapping = {\n",
        "        u\"ۀ\" : u\"ه\",\n",
        "        u\"ة\" : u\"ت\",\n",
        "        u\"ي\" : u\"ی\",\n",
        "        u\"ؤ\" : u\"و\",\n",
        "        u\"إ\" : u\"ا\",\n",
        "        u\"ٹ\" : u\"ت\",\n",
        "        u\"ڈ\" : u\"د\",\n",
        "        u\"ئ\" : u\"ی\",\n",
        "        u\"ﻨ\" : u\"ن\",\n",
        "        u\"ﺠ\" : u\"ج\",\n",
        "        u\"ﻣ\" : u\"م\",\n",
        "        u\"ﷲ\" : u\"\",\n",
        "        u\"ﻳ\" : u\"ی\",\n",
        "        u\"ٻ\" : u\"ب\",\n",
        "        u\"ٱ\" : u\"ا\",\n",
        "        u\"ڵ\" : u\"ل\",\n",
        "        u\"ﭘ\" : u\"پ\",\n",
        "        u\"ﻪ\" : u\"ه\",\n",
        "        u\"ﻳ\" : u\"ی\",\n",
        "        u\"ٻ\" : u\"ب\",\n",
        "        u\"ں\" : u\"ن\",\n",
        "        u\"ٶ\" : u\"و\",\n",
        "        u\"ٲ\" : u\"ا\",\n",
        "        u\"ہ\" : u\"ه\",\n",
        "        u\"ﻩ\" : u\"ه\",\n",
        "        u\"ﻩ\" : u\"ه\",\n",
        "        u\"ك\" : u\"ک\",\n",
        "        u\"ﺆ\" : u\"و\",\n",
        "        u\"أ\" : u\"ا\",\n",
        "        u\"ﺪ\" : u\"د\"\n",
        "    }\n",
        "\n",
        "    arabic_keys =  re.compile(r\"(\" + \"|\".join(mapping.keys()) + r\")\")\n",
        "    return arabic_keys.sub(lambda x: mapping[x.group()], text)"
      ]
    },
    {
      "cell_type": "markdown",
      "source": [
        "### Create needed regexes"
      ],
      "metadata": {
        "id": "6XSlqXPl29OY"
      },
      "id": "6XSlqXPl29OY"
    },
    {
      "cell_type": "code",
      "execution_count": 19,
      "id": "3d58accb-cc3f-4245-b207-e346402aa70e",
      "metadata": {
        "id": "3d58accb-cc3f-4245-b207-e346402aa70e"
      },
      "outputs": [],
      "source": [
        "spaces_reg = remove_spaces_reg() \n",
        "symbols_reg = remove_symbols_reg()"
      ]
    },
    {
      "cell_type": "markdown",
      "source": [
        "### clean_text function\n",
        "the following method cleans input text from extra spaces, stop words, punctuations, unwanted symbols and arabic alphabet."
      ],
      "metadata": {
        "id": "WN7e3_If37Km"
      },
      "id": "WN7e3_If37Km"
    },
    {
      "cell_type": "code",
      "execution_count": 20,
      "id": "5c809390-b80e-490f-9b97-161d659ff54e",
      "metadata": {
        "id": "5c809390-b80e-490f-9b97-161d659ff54e"
      },
      "outputs": [],
      "source": [
        "def clean_text(text):\n",
        "    text = re.sub(spaces_reg, \" \", text)\n",
        "    text = re.sub(symbols_reg, \"\", text)\n",
        "    text = remeove_arabic(text)\n",
        "    text = normalizer.normalize(text)\n",
        "    regex = r\"\\b(?:\" + \"|\".join(map(re.escape, stopwords)) + r\")\\b\"\n",
        "    text = re.sub(regex, \" \", text)\n",
        "    text = re.sub(spaces_reg, \" \", text)\n",
        "    text = re.sub(\"(\\s)+\", \" \", text)\n",
        "    text = text.strip()\n",
        "    return text"
      ]
    },
    {
      "cell_type": "markdown",
      "source": [
        "### Process Couplet(Beyt)\n",
        "The following code :\n",
        "- checks whether the line is Couplet or not\n",
        "- if the line is couplet extract Poem Number and Couplet number\n",
        "- Extract Hemistich(Mesra)"
      ],
      "metadata": {
        "id": "HsKSxYoa4lDe"
      },
      "id": "HsKSxYoa4lDe"
    },
    {
      "cell_type": "code",
      "execution_count": 21,
      "id": "e98d200d",
      "metadata": {
        "id": "e98d200d"
      },
      "outputs": [],
      "source": [
        "def process_couplet(text):\n",
        "    result = re.search(\"(\\d{1,3})\\.(\\d{1,3})\", text)\n",
        "    # check if line contains a couplet\n",
        "    if result:\n",
        "        pno, cno = result.groups()\n",
        "        # delete Daftar and Poem number\n",
        "        couplet = re.sub(\"(\\d{1,3})\\.(\\d{1,3})\", \"\", text)\n",
        "        # extract mesra\n",
        "        hemistich = couplet.split(\"\\t\")[1:3]\n",
        "        # extract important tokens in mesra\n",
        "        cleaned_hemistich = [clean_text(h) for h in hemistich]\n",
        "        # clean spaces\n",
        "        couplet = re.sub(spaces_reg, \" \", couplet)\n",
        "        return pno, cno, couplet, \" \".join(cleaned_hemistich), cleaned_hemistich[0], cleaned_hemistich[1]\n",
        "    return None"
      ]
    },
    {
      "cell_type": "markdown",
      "source": [
        "#### Example 1"
      ],
      "metadata": {
        "id": "kV8VVAl75ane"
      },
      "id": "kV8VVAl75ane"
    },
    {
      "cell_type": "code",
      "execution_count": 22,
      "id": "42eec703",
      "metadata": {
        "colab": {
          "base_uri": "https://localhost:8080/"
        },
        "id": "42eec703",
        "outputId": "ba91b716-6dc2-48fe-beaf-da8c33efb299"
      },
      "outputs": [
        {
          "output_type": "execute_result",
          "data": {
            "text/plain": [
              "('1',\n",
              " '10',\n",
              " '\\tآتش ِعشق است كاندر نی فتاد\\tجوشش عشق است كاندر می   فتاد',\n",
              " 'آتش عشق نی فتاد جوشش عشق فتاد',\n",
              " 'آتش عشق نی فتاد',\n",
              " 'جوشش عشق فتاد')"
            ]
          },
          "metadata": {},
          "execution_count": 22
        }
      ],
      "source": [
        "process_couplet('1.10\tآتش ِعشق است كاندر نی فتاد\tجوشش عشق است كاندر می   فتاد')"
      ]
    },
    {
      "cell_type": "markdown",
      "source": [
        "#### Example 2"
      ],
      "metadata": {
        "id": "dbydN7Ve5fKo"
      },
      "id": "dbydN7Ve5fKo"
    },
    {
      "cell_type": "code",
      "execution_count": 23,
      "id": "2e767091",
      "metadata": {
        "colab": {
          "base_uri": "https://localhost:8080/"
        },
        "id": "2e767091",
        "outputId": "0d33804b-c6a9-4640-8b9c-5e8bf29156a1"
      },
      "outputs": [
        {
          "output_type": "execute_result",
          "data": {
            "text/plain": [
              "('28',\n",
              " '16',\n",
              " '\\tقطره ای از باده های آسمان\\tپُر كند جان را ز می و ز ساقیان ',\n",
              " 'قطره باده آسمان ساقیان',\n",
              " 'قطره باده آسمان',\n",
              " 'ساقیان')"
            ]
          },
          "metadata": {},
          "execution_count": 23
        }
      ],
      "source": [
        "process_couplet('28.16\tقطره ای از باده های آسمان\tپُر كند جان را ز می و ز ساقیان ')"
      ]
    },
    {
      "cell_type": "markdown",
      "source": [
        "#### Example 3"
      ],
      "metadata": {
        "id": "d3tr4Sg15pFr"
      },
      "id": "d3tr4Sg15pFr"
    },
    {
      "cell_type": "code",
      "execution_count": 24,
      "id": "48c1bb6f",
      "metadata": {
        "colab": {
          "base_uri": "https://localhost:8080/"
        },
        "id": "48c1bb6f",
        "outputId": "263d47ee-0bc2-4a68-a76c-b2ea29049af1"
      },
      "outputs": [
        {
          "output_type": "execute_result",
          "data": {
            "text/plain": [
              "('10',\n",
              " '14',\n",
              " '\\tگر نبودی كارش الهام اله\\tاو سگی بودی دراننده، نه شاه',\n",
              " 'نبودی کارش الهام اله سگی دراننده شاه',\n",
              " 'نبودی کارش الهام اله',\n",
              " 'سگی دراننده شاه')"
            ]
          },
          "metadata": {},
          "execution_count": 24
        }
      ],
      "source": [
        "process_couplet('10.14\tگر نبودی كارش الهام اله\tاو سگی بودی دراننده، نه شاه')"
      ]
    },
    {
      "cell_type": "markdown",
      "source": [
        "#### Array Masnavi Contains all couplets process by function `process_couplet`"
      ],
      "metadata": {
        "id": "jPfScl_u5vc6"
      },
      "id": "jPfScl_u5vc6"
    },
    {
      "cell_type": "code",
      "execution_count": 25,
      "id": "2f3f1427",
      "metadata": {
        "id": "2f3f1427"
      },
      "outputs": [],
      "source": [
        "masnavi = []"
      ]
    },
    {
      "cell_type": "markdown",
      "source": [
        "### Process Dataset and append all couplets to masnavi list"
      ],
      "metadata": {
        "id": "pFiyQHwE7FfK"
      },
      "id": "pFiyQHwE7FfK"
    },
    {
      "cell_type": "code",
      "execution_count": 26,
      "id": "60abbba1",
      "metadata": {
        "colab": {
          "base_uri": "https://localhost:8080/"
        },
        "id": "60abbba1",
        "outputId": "6cefeb6d-24bc-4c11-e441-7a707204d4e8"
      },
      "outputs": [
        {
          "output_type": "stream",
          "name": "stdout",
          "text": [
            "Processing Daftar 1\n",
            "Processing Daftar 2\n",
            "Processing Daftar 3\n",
            "Processing Daftar 4\n",
            "Processing Daftar 5\n",
            "Processing Daftar 6\n"
          ]
        }
      ],
      "source": [
        "daftar = 0\n",
        "for couplet in masnavi_file:\n",
        "    if re.search(\"^(?:دفتر).*.(?:مثنوی)$\", couplet):\n",
        "        daftar += 1\n",
        "        if daftar == 7:\n",
        "            print(\"Processing Completed!\")\n",
        "            break\n",
        "        print(f\"Processing Daftar {daftar}\")\n",
        "    else:\n",
        "        process_result = process_couplet(couplet)\n",
        "        if process_result:\n",
        "            pno = process_result[0]\n",
        "            cno = process_result[1]\n",
        "            c = process_result[2]\n",
        "            cc = process_result[3]\n",
        "            h1 = process_result[4]\n",
        "            h2 = process_result[5]\n",
        "            data = (daftar, pno, cno, c, cc, h1, h2)\n",
        "            masnavi.append(data)"
      ]
    },
    {
      "cell_type": "markdown",
      "source": [
        "### Convert `masnavi` list to `masnavi_df` pandas dataframe"
      ],
      "metadata": {
        "id": "LG4l7_tJ7QxR"
      },
      "id": "LG4l7_tJ7QxR"
    },
    {
      "cell_type": "code",
      "execution_count": 27,
      "id": "3f1da460",
      "metadata": {
        "id": "3f1da460"
      },
      "outputs": [],
      "source": [
        "masnavi_df = pd.DataFrame(masnavi, columns=['Daftar', 'Poem', 'CNo', 'Couplet', 'CCouplet', 'Hemistich1', 'Hemistich2'])"
      ]
    },
    {
      "cell_type": "markdown",
      "id": "dbe681f2",
      "metadata": {
        "id": "dbe681f2"
      },
      "source": [
        "### Convert dataframe Daftar Poem and Couplet Number to Numeric"
      ]
    },
    {
      "cell_type": "code",
      "execution_count": 28,
      "id": "2b04f711",
      "metadata": {
        "id": "2b04f711"
      },
      "outputs": [],
      "source": [
        "masnavi_df['Daftar'] = masnavi_df['Daftar'].apply(pd.to_numeric)\n",
        "masnavi_df['Poem'] = masnavi_df['Poem'].apply(pd.to_numeric)\n",
        "masnavi_df['CNo'] = masnavi_df['CNo'].apply(pd.to_numeric)"
      ]
    },
    {
      "cell_type": "markdown",
      "id": "336b162f",
      "metadata": {
        "id": "336b162f"
      },
      "source": [
        "### Create Tokenized columns"
      ]
    },
    {
      "cell_type": "code",
      "execution_count": 29,
      "id": "6d84e7f6",
      "metadata": {
        "id": "6d84e7f6"
      },
      "outputs": [],
      "source": [
        "masnavi_df['Couplet_tokenized'] = masnavi_df['CCouplet'].apply(lambda x:hazm.word_tokenize(x))"
      ]
    },
    {
      "cell_type": "code",
      "execution_count": 30,
      "id": "5bff72df",
      "metadata": {
        "id": "5bff72df"
      },
      "outputs": [],
      "source": [
        "masnavi_df['Hemistich1_tokenized'] =  masnavi_df['Hemistich1'].apply(lambda x:hazm.word_tokenize(x))"
      ]
    },
    {
      "cell_type": "code",
      "execution_count": 31,
      "id": "cf9cc5f4",
      "metadata": {
        "id": "cf9cc5f4"
      },
      "outputs": [],
      "source": [
        "masnavi_df['Hemistich2_tokenized'] =  masnavi_df['Hemistich2'].apply(lambda x:hazm.word_tokenize(x))"
      ]
    },
    {
      "cell_type": "markdown",
      "id": "886bb5fc-7515-434e-af33-a08a74218766",
      "metadata": {
        "id": "886bb5fc-7515-434e-af33-a08a74218766"
      },
      "source": [
        "## Pos Tagger"
      ]
    },
    {
      "cell_type": "markdown",
      "source": [
        "### First I tried parsivar with stanford tagger model"
      ],
      "metadata": {
        "id": "de3qIlDg8cZN"
      },
      "id": "de3qIlDg8cZN"
    },
    {
      "cell_type": "code",
      "execution_count": 32,
      "id": "eddc9785-9186-4647-8361-e7f757d9941b",
      "metadata": {
        "id": "eddc9785-9186-4647-8361-e7f757d9941b"
      },
      "outputs": [],
      "source": [
        "from parsivar import Tokenizer, FindStems, FindChunks, POSTagger\n",
        "\n",
        "pars_tokenizer = Tokenizer()\n",
        "pars_tagger = POSTagger(tagging_model=\"stanford\")"
      ]
    },
    {
      "cell_type": "markdown",
      "source": [
        "#### create Pos Tag with Parsivar Tagger"
      ],
      "metadata": {
        "id": "ci18mJ8S8rrN"
      },
      "id": "ci18mJ8S8rrN"
    },
    {
      "cell_type": "code",
      "execution_count": 33,
      "id": "aaabd30d-674d-4cdf-bfee-6e470032cb28",
      "metadata": {
        "id": "aaabd30d-674d-4cdf-bfee-6e470032cb28"
      },
      "outputs": [],
      "source": [
        "def create_pos_tag(text):\n",
        "    # pos tag couplet\n",
        "    return pars_tagger.parse(pars_tokenizer.tokenize_words(text))"
      ]
    },
    {
      "cell_type": "markdown",
      "source": [
        "#### As you see Results aren't satisfying\n",
        "Moreover, It's too slow and cannot be apply on whole dataset."
      ],
      "metadata": {
        "id": "CTwFKY5D9LfJ"
      },
      "id": "CTwFKY5D9LfJ"
    },
    {
      "cell_type": "markdown",
      "source": [
        "#### Example 1)"
      ],
      "metadata": {
        "id": "0FxVkWZ09vb4"
      },
      "id": "0FxVkWZ09vb4"
    },
    {
      "cell_type": "code",
      "source": [
        "create_pos_tag('نبودی کارش الهام اله سگی دراننده شاه')"
      ],
      "metadata": {
        "colab": {
          "base_uri": "https://localhost:8080/"
        },
        "id": "7Y40SULm8VW6",
        "outputId": "cd91f6b1-247b-4bb3-fae0-a8e2d3e35933"
      },
      "id": "7Y40SULm8VW6",
      "execution_count": 34,
      "outputs": [
        {
          "output_type": "execute_result",
          "data": {
            "text/plain": [
              "[('نبودی', 'N'),\n",
              " ('کارش', 'N'),\n",
              " ('الهام', 'N'),\n",
              " ('اله', 'AR'),\n",
              " ('سگی', 'N'),\n",
              " ('دراننده', 'N'),\n",
              " ('شاه', 'N')]"
            ]
          },
          "metadata": {},
          "execution_count": 34
        }
      ]
    },
    {
      "cell_type": "markdown",
      "source": [
        "#### Example 2)"
      ],
      "metadata": {
        "id": "-I2pgHnw9x3a"
      },
      "id": "-I2pgHnw9x3a"
    },
    {
      "cell_type": "code",
      "source": [
        "create_pos_tag('آتش عشق نی فتاد جوشش عشق فتاد')"
      ],
      "metadata": {
        "colab": {
          "base_uri": "https://localhost:8080/"
        },
        "id": "Ds1s2V189gqu",
        "outputId": "1ad07c5d-e895-4146-efe7-6fb6db8eee74"
      },
      "id": "Ds1s2V189gqu",
      "execution_count": 35,
      "outputs": [
        {
          "output_type": "execute_result",
          "data": {
            "text/plain": [
              "[('آتش', 'N'),\n",
              " ('عشق', 'N'),\n",
              " ('نی', 'N'),\n",
              " ('فتاد', 'DELM'),\n",
              " ('جوشش', 'N'),\n",
              " ('عشق', 'N'),\n",
              " ('فتاد', 'V_PA')]"
            ]
          },
          "metadata": {},
          "execution_count": 35
        }
      ]
    },
    {
      "cell_type": "markdown",
      "source": [
        "### Welcome to Spark\n",
        "I saw the process of post tagging is too time-consuming and the python wrapper implemented by Parsivar is not appropriate to feed into user-defined function because it uses pointers that cannot be pickled at spark runtime process."
      ],
      "metadata": {
        "id": "se3NpzLb98m4"
      },
      "id": "se3NpzLb98m4"
    },
    {
      "cell_type": "markdown",
      "source": [
        "### First We need to fix environment variables"
      ],
      "metadata": {
        "id": "5ZO9nXpR_Exd"
      },
      "id": "5ZO9nXpR_Exd"
    },
    {
      "cell_type": "code",
      "source": [
        "import os\n",
        "os.environ[\"JAVA_HOME\"] = \"/usr/lib/jvm/java-8-openjdk-amd64\"\n",
        "os.environ[\"SPARK_HOME\"] = \"/content/spark-3.2.0-bin-hadoop3.2\""
      ],
      "metadata": {
        "id": "_T3Sq8Y8We86"
      },
      "id": "_T3Sq8Y8We86",
      "execution_count": 36,
      "outputs": []
    },
    {
      "cell_type": "markdown",
      "source": [
        "### Then we use `Findspark` to find spark executable"
      ],
      "metadata": {
        "id": "OYTP5R80_RPR"
      },
      "id": "OYTP5R80_RPR"
    },
    {
      "cell_type": "code",
      "source": [
        "import findspark\n",
        "findspark.init()\n",
        "findspark.find()"
      ],
      "metadata": {
        "id": "BxnEj0GfWof5",
        "colab": {
          "base_uri": "https://localhost:8080/",
          "height": 35
        },
        "outputId": "7e6f265e-760f-4d68-a0d7-6eeb6ac89041"
      },
      "id": "BxnEj0GfWof5",
      "execution_count": 37,
      "outputs": [
        {
          "output_type": "execute_result",
          "data": {
            "application/vnd.google.colaboratory.intrinsic+json": {
              "type": "string"
            },
            "text/plain": [
              "'/content/spark-3.2.0-bin-hadoop3.2'"
            ]
          },
          "metadata": {},
          "execution_count": 37
        }
      ]
    },
    {
      "cell_type": "markdown",
      "source": [
        "### Create Spark Session"
      ],
      "metadata": {
        "id": "n57RxM3i_mhS"
      },
      "id": "n57RxM3i_mhS"
    },
    {
      "cell_type": "code",
      "source": [
        "from pyspark.sql import SparkSession\n",
        "\n",
        "spark = SparkSession.builder\\\n",
        "        .master(\"local\")\\\n",
        "        .appName(\"Colab\")\\\n",
        "        .config('spark.ui.port', '4050')\\\n",
        "        .getOrCreate()"
      ],
      "metadata": {
        "id": "aHBDJHKYWu2i"
      },
      "id": "aHBDJHKYWu2i",
      "execution_count": 38,
      "outputs": []
    },
    {
      "cell_type": "markdown",
      "source": [
        "### Import Spark Context and import other necessary utils"
      ],
      "metadata": {
        "id": "HoxAB504_zkf"
      },
      "id": "HoxAB504_zkf"
    },
    {
      "cell_type": "code",
      "source": [
        "from pyspark.sql import SQLContext\n",
        "from pyspark import SparkContext\n",
        "from pyspark.sql.functions import udf, col"
      ],
      "metadata": {
        "id": "BzytUg8rZ56I"
      },
      "id": "BzytUg8rZ56I",
      "execution_count": 39,
      "outputs": []
    },
    {
      "cell_type": "markdown",
      "source": [
        "### Instanciate `sqlContext` and create spark dataframe from masnavi pandas dataframe"
      ],
      "metadata": {
        "id": "cJeiaNJZABF5"
      },
      "id": "cJeiaNJZABF5"
    },
    {
      "cell_type": "code",
      "source": [
        "sqlContext = SQLContext(spark)\n",
        "masnavi_pdf = sqlContext.createDataFrame(masnavi_df)"
      ],
      "metadata": {
        "id": "nZ48CANiaJGI",
        "colab": {
          "base_uri": "https://localhost:8080/"
        },
        "outputId": "9a149d3d-20ce-4159-ba89-5ff55fd542c3"
      },
      "id": "nZ48CANiaJGI",
      "execution_count": 40,
      "outputs": [
        {
          "output_type": "stream",
          "name": "stderr",
          "text": [
            "/content/spark-3.2.0-bin-hadoop3.2/python/pyspark/sql/context.py:79: FutureWarning: Deprecated in 3.0.0. Use SparkSession.builder.getOrCreate() instead.\n",
            "  FutureWarning\n"
          ]
        }
      ]
    },
    {
      "cell_type": "markdown",
      "source": [
        "### Print Spark Dataframe Schema"
      ],
      "metadata": {
        "id": "ibwVaLm0AR7W"
      },
      "id": "ibwVaLm0AR7W"
    },
    {
      "cell_type": "code",
      "source": [
        "masnavi_pdf.printSchema()"
      ],
      "metadata": {
        "id": "wyDc5LmusqCo",
        "colab": {
          "base_uri": "https://localhost:8080/"
        },
        "outputId": "cb9e7691-9f74-4671-d1f2-d729b6916032"
      },
      "id": "wyDc5LmusqCo",
      "execution_count": 41,
      "outputs": [
        {
          "output_type": "stream",
          "name": "stdout",
          "text": [
            "root\n",
            " |-- Daftar: long (nullable = true)\n",
            " |-- Poem: long (nullable = true)\n",
            " |-- CNo: long (nullable = true)\n",
            " |-- Couplet: string (nullable = true)\n",
            " |-- CCouplet: string (nullable = true)\n",
            " |-- Hemistich1: string (nullable = true)\n",
            " |-- Hemistich2: string (nullable = true)\n",
            " |-- Couplet_tokenized: array (nullable = true)\n",
            " |    |-- element: string (containsNull = true)\n",
            " |-- Hemistich1_tokenized: array (nullable = true)\n",
            " |    |-- element: string (containsNull = true)\n",
            " |-- Hemistich2_tokenized: array (nullable = true)\n",
            " |    |-- element: string (containsNull = true)\n",
            "\n"
          ]
        }
      ]
    },
    {
      "cell_type": "markdown",
      "source": [
        "### Tokenization Using Parsivar and Spark\n"
      ],
      "metadata": {
        "id": "8yLytuI5D1v0"
      },
      "id": "8yLytuI5D1v0"
    },
    {
      "cell_type": "code",
      "source": [
        "from pyspark.sql.types import ArrayType, StringType"
      ],
      "metadata": {
        "id": "HUKL46Jzm98f"
      },
      "id": "HUKL46Jzm98f",
      "execution_count": 42,
      "outputs": []
    },
    {
      "cell_type": "code",
      "source": [
        "token_udf = udf(\n",
        "    lambda couplet: pars_tokenizer.tokenize_words(couplet),\n",
        "    StringType())  "
      ],
      "metadata": {
        "id": "mDkkomRMl-RL"
      },
      "id": "mDkkomRMl-RL",
      "execution_count": 43,
      "outputs": []
    },
    {
      "cell_type": "code",
      "source": [
        " masnavi_pdf = masnavi_pdf.withColumn(\"ParsTokens\", token_udf(masnavi_pdf.Couplet))"
      ],
      "metadata": {
        "id": "PyhGqVtyX5pT"
      },
      "id": "PyhGqVtyX5pT",
      "execution_count": 44,
      "outputs": []
    },
    {
      "cell_type": "markdown",
      "source": [
        "#### Convert pyspark dataframe to pandas dataframe"
      ],
      "metadata": {
        "id": "Dja-6hLhzTXM"
      },
      "id": "Dja-6hLhzTXM"
    },
    {
      "cell_type": "code",
      "source": [
        "masnavi_df = masnavi_pdf.toPandas()"
      ],
      "metadata": {
        "id": "L87yn6SYDUYp"
      },
      "id": "L87yn6SYDUYp",
      "execution_count": 45,
      "outputs": []
    },
    {
      "cell_type": "markdown",
      "source": [
        "#### store result into `masnavi_df.csv` file"
      ],
      "metadata": {
        "id": "Vfqiwc63zZwZ"
      },
      "id": "Vfqiwc63zZwZ"
    },
    {
      "cell_type": "code",
      "execution_count": 46,
      "id": "b6cc6242-d94c-4cb6-bf37-6d4e2d376cff",
      "metadata": {
        "id": "b6cc6242-d94c-4cb6-bf37-6d4e2d376cff"
      },
      "outputs": [],
      "source": [
        "masnavi_df.to_csv('masnavi_df.csv', encoding='utf-8')"
      ]
    },
    {
      "cell_type": "markdown",
      "source": [
        "### Stanza Library and Spark"
      ],
      "metadata": {
        "id": "Wn-g6FovElFp"
      },
      "id": "Wn-g6FovElFp"
    },
    {
      "cell_type": "markdown",
      "source": [
        "#### Download persian model"
      ],
      "metadata": {
        "id": "ZcQXS80lE5yN"
      },
      "id": "ZcQXS80lE5yN"
    },
    {
      "cell_type": "code",
      "source": [
        "import stanza\n",
        "stanza.download('fa')"
      ],
      "metadata": {
        "colab": {
          "base_uri": "https://localhost:8080/",
          "height": 101,
          "referenced_widgets": [
            "8627ac56cca847f7872cc4d7ece41b3f",
            "02b93b361c77408cb2a468aa503474ba",
            "2e87b297dcdf4ddda050b006358d7adf",
            "d9729bfae35d4f4bbb15d2041f7e5dc6",
            "a543a08413a2449f899517c2663c8cb7",
            "7490ff0b10694655ae0bc2e86f92ce31",
            "bafdb154432a4bde94dc2d79a8864f24",
            "a75623d756934ab5a581ef0412eeb0c6",
            "d0b6e3c1cd364dbeb5a0fb3e555ec8e0",
            "7960c56b1bcd4831b59196188fd29e1e",
            "6a7e67f40c884fe0937dbaddaf33d00b"
          ]
        },
        "id": "T9jIsq8F5-J4",
        "outputId": "aa2767d6-d349-4664-a9d9-7f7dc747b001"
      },
      "id": "T9jIsq8F5-J4",
      "execution_count": 47,
      "outputs": [
        {
          "output_type": "display_data",
          "data": {
            "application/vnd.jupyter.widget-view+json": {
              "model_id": "8627ac56cca847f7872cc4d7ece41b3f",
              "version_minor": 0,
              "version_major": 2
            },
            "text/plain": [
              "Downloading https://raw.githubusercontent.com/stanfordnlp/stanza-resources/main/resources_1.3.0.json:   0%|   …"
            ]
          },
          "metadata": {}
        },
        {
          "output_type": "stream",
          "name": "stderr",
          "text": [
            "2021-12-13 18:51:58 INFO: Downloading default packages for language: fa (Persian)...\n",
            "2021-12-13 18:52:00 INFO: File exists: /root/stanza_resources/fa/default.zip.\n",
            "2021-12-13 18:52:03 INFO: Finished downloading models and saved to /root/stanza_resources.\n"
          ]
        }
      ]
    },
    {
      "cell_type": "markdown",
      "source": [
        "### Create Processing Pipline"
      ],
      "metadata": {
        "id": "bf_rXZcvFFM9"
      },
      "id": "bf_rXZcvFFM9"
    },
    {
      "cell_type": "code",
      "source": [
        "nlp = stanza.Pipeline(lang='fa', processors='tokenize,mwt,pos')"
      ],
      "metadata": {
        "colab": {
          "base_uri": "https://localhost:8080/"
        },
        "id": "V_xbh0-J5bM0",
        "outputId": "f2b279db-08de-469f-bb9d-041cce319a3a"
      },
      "id": "V_xbh0-J5bM0",
      "execution_count": 48,
      "outputs": [
        {
          "output_type": "stream",
          "name": "stderr",
          "text": [
            "2021-12-13 18:52:03 INFO: Loading these models for language: fa (Persian):\n",
            "=======================\n",
            "| Processor | Package |\n",
            "-----------------------\n",
            "| tokenize  | perdt   |\n",
            "| mwt       | perdt   |\n",
            "| pos       | perdt   |\n",
            "=======================\n",
            "\n",
            "2021-12-13 18:52:03 INFO: Use device: cpu\n",
            "2021-12-13 18:52:03 INFO: Loading: tokenize\n",
            "2021-12-13 18:52:03 INFO: Loading: mwt\n",
            "2021-12-13 18:52:03 INFO: Loading: pos\n",
            "2021-12-13 18:52:04 INFO: Done loading processors!\n"
          ]
        }
      ]
    },
    {
      "cell_type": "markdown",
      "source": [
        "### Execute Stanford model on Masnavi Data using Pyspark\n",
        "\n",
        "I reduced the needed time to parse masnavi corpus from 10 hours to 20 minutes; however, if your want to run it yourself, you need to wait for 20 minutes too."
      ],
      "metadata": {
        "id": "Sn4bqniBFWu9"
      },
      "id": "Sn4bqniBFWu9"
    },
    {
      "cell_type": "markdown",
      "source": [
        "### Extract Pos tags without cleaning"
      ],
      "metadata": {
        "id": "W4WkkNp_38ry"
      },
      "id": "W4WkkNp_38ry"
    },
    {
      "cell_type": "code",
      "source": [
        "pos_tags_without_cleaning = masnavi_pdf.select(\"Couplet\").rdd.map(lambda x: nlp(x[0])).collect()"
      ],
      "metadata": {
        "id": "l37Trg84340e"
      },
      "id": "l37Trg84340e",
      "execution_count": 49,
      "outputs": []
    },
    {
      "cell_type": "markdown",
      "source": [
        "### Extract Pos tags with custom cleaning"
      ],
      "metadata": {
        "id": "E3u9rGjp4Cm3"
      },
      "id": "E3u9rGjp4Cm3"
    },
    {
      "cell_type": "code",
      "source": [
        "pos_tags_with_cleaning = masnavi_pdf.select(\"Couplet\").rdd.map(lambda x: nlp(clean_text(x[0]))).collect()"
      ],
      "metadata": {
        "id": "nQxD__5Sz6v2"
      },
      "id": "nQxD__5Sz6v2",
      "execution_count": 50,
      "outputs": []
    },
    {
      "cell_type": "markdown",
      "source": [
        "#### Number of pos sentences"
      ],
      "metadata": {
        "id": "UvTco9IcEN7P"
      },
      "id": "UvTco9IcEN7P"
    },
    {
      "cell_type": "code",
      "source": [
        "len(pos_tags_with_cleaning)"
      ],
      "metadata": {
        "colab": {
          "base_uri": "https://localhost:8080/"
        },
        "id": "5OpVhoDgzpdL",
        "outputId": "ed815cbc-6292-4f8a-aaa9-f1c54ccc062b"
      },
      "id": "5OpVhoDgzpdL",
      "execution_count": 51,
      "outputs": [
        {
          "output_type": "execute_result",
          "data": {
            "text/plain": [
              "27953"
            ]
          },
          "metadata": {},
          "execution_count": 51
        }
      ]
    },
    {
      "cell_type": "markdown",
      "source": [
        "### PosTag Class\n",
        "the following class keeps tags data about each word in corpus"
      ],
      "metadata": {
        "id": "mIvC4VHDEUFp"
      },
      "id": "mIvC4VHDEUFp"
    },
    {
      "cell_type": "code",
      "source": [
        "class PosTag:\n",
        "  def __init__(self, id, text, upos, xpos, feats, start_char, end_char):\n",
        "    self.id = id\n",
        "    self.text = text\n",
        "    self.upos = upos\n",
        "    self.xpos = xpos\n",
        "    self.feats = {x.split(\"=\")[0]:x.split(\"=\")[1] for x in [x for x in feats.split(\"|\")]} if feats else {}\n",
        "    self.start_char = start_char\n",
        "    self.end_char = end_char\n",
        "\n",
        "  def to_dict(self):\n",
        "    return {\n",
        "        'id': self.id,\n",
        "        'text': self.text,\n",
        "        'upos': self.upos,\n",
        "        'xpos': self.xpos,\n",
        "        'feats': self.feats,\n",
        "        'start_char': self.start_char,\n",
        "        'end_char': self.end_char\n",
        "    }"
      ],
      "metadata": {
        "id": "fN4ih7rC6Pl-"
      },
      "id": "fN4ih7rC6Pl-",
      "execution_count": 52,
      "outputs": []
    },
    {
      "cell_type": "markdown",
      "source": [
        "### Create `masnavi_tags` containing `PosTag` class objects"
      ],
      "metadata": {
        "id": "bMD370_3EhHZ"
      },
      "id": "bMD370_3EhHZ"
    },
    {
      "cell_type": "code",
      "source": [
        "class MasnaviPosBasedAnalyze:\n",
        "  def __init__(self, pos_tags):\n",
        "    self.masnavi_tags = list()\n",
        "    for i, tags in enumerate(pos_tags):\n",
        "      try:\n",
        "        sent = tags.sentences[0]\n",
        "        for word in sent.words:\n",
        "          self.masnavi_tags.append(PosTag(\n",
        "              i,\n",
        "              word.text, \n",
        "              word.upos, \n",
        "              word.xpos, \n",
        "              word.feats, \n",
        "              word.start_char, \n",
        "              word.end_char))\n",
        "      except:\n",
        "        pass\n",
        "    self.masnavi_pos_df = pd.DataFrame.from_records([t.to_dict() for t in self.masnavi_tags])\n",
        "\n",
        "  def common_adjectives(self, count=50):\n",
        "    return nltk.FreqDist(self.masnavi_pos_df[self.masnavi_pos_df[\"upos\"]==\"ADJ\"][\"text\"]).most_common(count)\n",
        "\n",
        "  def common_nouns(self, count=50):\n",
        "    return nltk.FreqDist(self.masnavi_pos_df[self.masnavi_pos_df[\"upos\"]==\"NOUN\"][\"text\"]).most_common(50)\n",
        "\n",
        "  def common_verbs(self, count=50):\n",
        "    return nltk.FreqDist(self.masnavi_pos_df[self.masnavi_pos_df[\"upos\"]==\"VERB\"][\"text\"]).most_common(50)\n",
        "\n",
        "  def common_SUBR(self):\n",
        "    return nltk.FreqDist(uncleaned_analyzer.masnavi_pos_df[uncleaned_analyzer.masnavi_pos_df[\"xpos\"]=='SUBR']['text']).most_common(9)"
      ],
      "metadata": {
        "id": "RsKKZIv76AF1"
      },
      "id": "RsKKZIv76AF1",
      "execution_count": 53,
      "outputs": []
    },
    {
      "cell_type": "code",
      "source": [
        "analyzer = MasnaviPosBasedAnalyze(pos_tags=pos_tags_with_cleaning)"
      ],
      "metadata": {
        "id": "joTKI59WdkNZ"
      },
      "id": "joTKI59WdkNZ",
      "execution_count": 54,
      "outputs": []
    },
    {
      "cell_type": "markdown",
      "source": [
        "### Most Common Adjectives in **Masnavi**"
      ],
      "metadata": {
        "id": "hize_4xCYBSy"
      },
      "id": "hize_4xCYBSy"
    },
    {
      "cell_type": "code",
      "source": [
        "analyzer.common_adjectives()"
      ],
      "metadata": {
        "id": "bTLSVYYxXBKe",
        "colab": {
          "base_uri": "https://localhost:8080/"
        },
        "outputId": "8ec4e2ad-f39d-4df9-ef2f-2346c496b0cf"
      },
      "id": "bTLSVYYxXBKe",
      "execution_count": 55,
      "outputs": [
        {
          "output_type": "execute_result",
          "data": {
            "text/plain": [
              "[('پنهان', 218),\n",
              " ('نیک', 218),\n",
              " ('پاک', 206),\n",
              " ('مست', 199),\n",
              " ('نهان', 187),\n",
              " ('کور', 174),\n",
              " ('زنده', 159),\n",
              " ('زشت', 150),\n",
              " ('بدی', 142),\n",
              " ('بسته', 140),\n",
              " ('روان', 138),\n",
              " ('پدید', 130),\n",
              " ('مرده', 129),\n",
              " ('نو', 124),\n",
              " ('پیر', 123),\n",
              " ('عاشق', 122),\n",
              " ('خرد', 112),\n",
              " ('شاد', 111),\n",
              " ('کژ', 110),\n",
              " ('خشک', 106),\n",
              " ('گم', 104),\n",
              " ('عیان', 102),\n",
              " ('دراز', 100),\n",
              " ('دور', 98),\n",
              " ('خام', 94),\n",
              " ('روشن', 90),\n",
              " ('خفته', 87),\n",
              " ('تیز', 87),\n",
              " ('پاره', 86),\n",
              " ('نیکو', 85),\n",
              " ('زار', 84),\n",
              " ('تنگ', 83),\n",
              " ('خوار', 82),\n",
              " ('خاص', 80),\n",
              " ('صاحب', 80),\n",
              " ('خور', 80),\n",
              " ('گرم', 79),\n",
              " ('عام', 78),\n",
              " ('حیران', 73),\n",
              " ('تلخ', 72),\n",
              " ('زرد', 72),\n",
              " ('سرد', 72),\n",
              " ('گران', 72),\n",
              " ('جفت', 71),\n",
              " ('اندک', 70),\n",
              " ('ایمن', 69),\n",
              " ('سست', 69),\n",
              " ('سیر', 68),\n",
              " ('ویران', 68),\n",
              " ('افزون', 67)]"
            ]
          },
          "metadata": {},
          "execution_count": 55
        }
      ]
    },
    {
      "cell_type": "markdown",
      "source": [
        "### Most Common Nouns in **Masnavi**"
      ],
      "metadata": {
        "id": "uzViFYLRY8lA"
      },
      "id": "uzViFYLRY8lA"
    },
    {
      "cell_type": "code",
      "source": [
        "analyzer.common_nouns()"
      ],
      "metadata": {
        "id": "oFYdDMiVYWR6",
        "colab": {
          "base_uri": "https://localhost:8080/"
        },
        "outputId": "9deaf85b-b28b-4277-efe5-392d9f869732"
      },
      "id": "oFYdDMiVYWR6",
      "execution_count": 56,
      "outputs": [
        {
          "output_type": "execute_result",
          "data": {
            "text/plain": [
              "[('دل', 1148),\n",
              " ('آب', 941),\n",
              " ('دست', 814),\n",
              " ('نی', 808),\n",
              " ('چشم', 798),\n",
              " ('نور', 640),\n",
              " ('عقل', 593),\n",
              " ('تن', 501),\n",
              " ('کار', 468),\n",
              " ('خدا', 449),\n",
              " ('ره', 412),\n",
              " ('جهان', 409),\n",
              " ('شب', 399),\n",
              " ('شیر', 395),\n",
              " ('خاک', 386),\n",
              " ('مرد', 381),\n",
              " ('آتش', 380),\n",
              " ('عشق', 375),\n",
              " ('زن', 370),\n",
              " ('خانه', 355),\n",
              " ('شاه', 350),\n",
              " ('خلق', 328),\n",
              " ('گوش', 323),\n",
              " ('سخن', 322),\n",
              " ('گل', 317),\n",
              " ('نفس', 309),\n",
              " ('درد', 303),\n",
              " ('الله', 298),\n",
              " ('زر', 296),\n",
              " ('زمین', 286),\n",
              " ('وقت', 281),\n",
              " ('یار', 280),\n",
              " ('بانگ', 279),\n",
              " ('خواب', 276),\n",
              " ('غم', 267),\n",
              " ('خون', 254),\n",
              " ('شکر', 243),\n",
              " ('خر', 233),\n",
              " ('دین', 233),\n",
              " ('پا', 232),\n",
              " ('بحر', 228),\n",
              " ('آفتاب', 226),\n",
              " ('نان', 226),\n",
              " ('مرگ', 225),\n",
              " ('شه', 220),\n",
              " ('مرغ', 219),\n",
              " ('ملک', 218),\n",
              " ('بینی', 214),\n",
              " ('عالم', 213),\n",
              " ('خیال', 210)]"
            ]
          },
          "metadata": {},
          "execution_count": 56
        }
      ]
    },
    {
      "cell_type": "markdown",
      "source": [
        "### Most Common Verbs in **Masnavi**"
      ],
      "metadata": {
        "id": "Y0Jemi63-QOX"
      },
      "id": "Y0Jemi63-QOX"
    },
    {
      "cell_type": "code",
      "source": [
        "analyzer.common_verbs()"
      ],
      "metadata": {
        "id": "yJcZJ-mDlRc_",
        "colab": {
          "base_uri": "https://localhost:8080/"
        },
        "outputId": "cb9064a9-ca6d-4486-da24-f3591b1f8d33"
      },
      "id": "yJcZJ-mDlRc_",
      "execution_count": 57,
      "outputs": [
        {
          "output_type": "execute_result",
          "data": {
            "text/plain": [
              "[('خورد', 187),\n",
              " ('بیند', 183),\n",
              " ('کشد', 144),\n",
              " ('داند', 143),\n",
              " ('نمود', 118),\n",
              " ('ببین', 117),\n",
              " ('کشید', 116),\n",
              " ('رسد', 116),\n",
              " ('میشود', 115),\n",
              " ('نهد', 109),\n",
              " ('نگردد', 107),\n",
              " ('میرود', 105),\n",
              " ('ناید', 102),\n",
              " ('خواند', 95),\n",
              " ('شه', 90),\n",
              " ('دیدی', 89),\n",
              " ('ندید', 87),\n",
              " ('ببینی', 86),\n",
              " ('بشنو', 83),\n",
              " ('بدید', 81),\n",
              " ('شنید', 79),\n",
              " ('بنگر', 77),\n",
              " ('بدانی', 75),\n",
              " ('نبیند', 72),\n",
              " ('فتاد', 71),\n",
              " ('نهاد', 71),\n",
              " ('نداند', 71),\n",
              " ('افتاد', 71),\n",
              " ('ببیند', 69),\n",
              " ('میزند', 68),\n",
              " ('نیاید', 65),\n",
              " ('گشتی', 65),\n",
              " ('آمدی', 65),\n",
              " ('میکرد', 62),\n",
              " ('شدست', 62),\n",
              " ('بگفت', 60),\n",
              " ('میرسد', 60),\n",
              " ('افتد', 59),\n",
              " ('میدهد', 59),\n",
              " ('بگذار', 58),\n",
              " ('میگفت', 58),\n",
              " ('برده', 58),\n",
              " ('دیدم', 58),\n",
              " ('فرمود', 57),\n",
              " ('بجو', 57),\n",
              " ('بده', 55),\n",
              " ('بری', 55),\n",
              " ('ربود', 54),\n",
              " ('توست', 54),\n",
              " ('مرد', 54)]"
            ]
          },
          "metadata": {},
          "execution_count": 57
        }
      ]
    },
    {
      "cell_type": "markdown",
      "source": [
        "### Initial class with uncleaned pos tagging"
      ],
      "metadata": {
        "id": "J_TpwGgiz0tz"
      },
      "id": "J_TpwGgiz0tz"
    },
    {
      "cell_type": "code",
      "source": [
        "uncleaned_analyzer = MasnaviPosBasedAnalyze(pos_tags=pos_tags_without_cleaning)"
      ],
      "metadata": {
        "id": "FAMWK0eBzx_d"
      },
      "id": "FAMWK0eBzx_d",
      "execution_count": 58,
      "outputs": []
    },
    {
      "cell_type": "markdown",
      "source": [
        "### Get common SUBR"
      ],
      "metadata": {
        "id": "2Sm84-qw5oE2"
      },
      "id": "2Sm84-qw5oE2"
    },
    {
      "cell_type": "code",
      "source": [
        "uncleaned_analyzer.common_SUBR()"
      ],
      "metadata": {
        "colab": {
          "base_uri": "https://localhost:8080/"
        },
        "id": "1xbyoNQW2IJ9",
        "outputId": "928d9b26-3464-48d5-ba7c-bd226890b7c0"
      },
      "id": "1xbyoNQW2IJ9",
      "execution_count": 59,
      "outputs": [
        {
          "output_type": "execute_result",
          "data": {
            "text/plain": [
              "[('كه', 3478),\n",
              " ('چون', 2591),\n",
              " ('تا', 1973),\n",
              " ('گر', 586),\n",
              " ('که', 347),\n",
              " ('اگر', 227),\n",
              " ('چونكه', 202),\n",
              " ('چونکه', 61),\n",
              " ('كز', 43)]"
            ]
          },
          "metadata": {},
          "execution_count": 59
        }
      ]
    },
    {
      "cell_type": "markdown",
      "id": "03ca3b7c",
      "metadata": {
        "id": "03ca3b7c"
      },
      "source": [
        "### Frequency Analysis"
      ]
    },
    {
      "cell_type": "code",
      "execution_count": 60,
      "id": "a92107be",
      "metadata": {
        "id": "a92107be"
      },
      "outputs": [],
      "source": [
        "from itertools import chain\n",
        "from collections import Counter"
      ]
    },
    {
      "cell_type": "markdown",
      "source": [
        "#### Extract all words from first tokenizer"
      ],
      "metadata": {
        "id": "RRFRWJ2P6inx"
      },
      "id": "RRFRWJ2P6inx"
    },
    {
      "cell_type": "code",
      "execution_count": 61,
      "id": "0ae9083f",
      "metadata": {
        "id": "0ae9083f"
      },
      "outputs": [],
      "source": [
        "all_words = list(chain.from_iterable(masnavi_df.Couplet_tokenized))"
      ]
    },
    {
      "cell_type": "code",
      "execution_count": 62,
      "id": "c0d36f1c",
      "metadata": {
        "id": "c0d36f1c"
      },
      "outputs": [],
      "source": [
        "words_frequencies = nltk.FreqDist(all_words).most_common(100)"
      ]
    },
    {
      "cell_type": "code",
      "execution_count": 63,
      "id": "8af213f9",
      "metadata": {
        "scrolled": true,
        "id": "8af213f9",
        "colab": {
          "base_uri": "https://localhost:8080/"
        },
        "outputId": "b70bd99f-8ae2-425d-d4f8-4b1f48c89cb3"
      },
      "outputs": [
        {
          "output_type": "execute_result",
          "data": {
            "text/plain": [
              "[('دل', 1047),\n",
              " ('آب', 941),\n",
              " ('نی', 911),\n",
              " ('دست', 776),\n",
              " ('چشم', 731),\n",
              " ('نور', 648),\n",
              " ('جهان', 602),\n",
              " ('عقل', 565),\n",
              " ('تن', 495),\n",
              " ('کار', 451)]"
            ]
          },
          "metadata": {},
          "execution_count": 63
        }
      ],
      "source": [
        "words_frequencies[:10]"
      ]
    },
    {
      "cell_type": "code",
      "execution_count": 64,
      "id": "519f411a",
      "metadata": {
        "id": "519f411a",
        "colab": {
          "base_uri": "https://localhost:8080/"
        },
        "outputId": "65e196ad-15b5-4f48-d9f6-4a198bd0f0b8"
      },
      "outputs": [
        {
          "output_type": "stream",
          "name": "stdout",
          "text": [
            "Number of words  162712          \n",
            "Number of unique words 22055           \n",
            "Average word length 4.006084369929692\n",
            "Longest word     استخوانهاشان    \n"
          ]
        }
      ],
      "source": [
        "print ('%-16s' % 'Number of words', '%-16s' % len(all_words))\n",
        "print ('%-16s' % 'Number of unique words', '%-16s' % len(set(all_words)))\n",
        "avg=np.sum([len(word) for word in all_words])/len(all_words)\n",
        "print ('%-16s' % 'Average word length', '%-16s' % avg)\n",
        "print ('%-16s' % 'Longest word', '%-16s' % all_words[np.argmax([len(word) for word in all_words])])"
      ]
    },
    {
      "cell_type": "markdown",
      "source": [
        "### Extract all words from Stanza tokenized pipeline"
      ],
      "metadata": {
        "id": "sXiN_IaV6oO_"
      },
      "id": "sXiN_IaV6oO_"
    },
    {
      "cell_type": "code",
      "source": [
        "stanza_words = list(analyzer.masnavi_pos_df[analyzer.masnavi_pos_df['upos']=='NOUN']['text'])"
      ],
      "metadata": {
        "id": "13epeK-86ILU"
      },
      "id": "13epeK-86ILU",
      "execution_count": 65,
      "outputs": []
    },
    {
      "cell_type": "code",
      "source": [
        "stanza_words_frequencies = nltk.FreqDist(stanza_words).most_common(100)"
      ],
      "metadata": {
        "id": "Foh0QwOq6z9S"
      },
      "id": "Foh0QwOq6z9S",
      "execution_count": 66,
      "outputs": []
    },
    {
      "cell_type": "code",
      "source": [
        "stanza_words_frequencies[:10]"
      ],
      "metadata": {
        "colab": {
          "base_uri": "https://localhost:8080/"
        },
        "id": "TX7POdKq6-QS",
        "outputId": "593299ad-4b34-4840-aeb5-632e0e891768"
      },
      "id": "TX7POdKq6-QS",
      "execution_count": 67,
      "outputs": [
        {
          "output_type": "execute_result",
          "data": {
            "text/plain": [
              "[('دل', 1148),\n",
              " ('آب', 941),\n",
              " ('دست', 814),\n",
              " ('نی', 808),\n",
              " ('چشم', 798),\n",
              " ('نور', 640),\n",
              " ('عقل', 593),\n",
              " ('تن', 501),\n",
              " ('کار', 468),\n",
              " ('خدا', 449)]"
            ]
          },
          "metadata": {},
          "execution_count": 67
        }
      ]
    },
    {
      "cell_type": "code",
      "source": [
        "print ('%-16s' % 'Number of words', '%-16s' % len(stanza_words))\n",
        "print ('%-16s' % 'Number of unique words', '%-16s' % len(set(stanza_words)))\n",
        "avg=np.sum([len(word) for word in stanza_words])/len(stanza_words)\n",
        "print ('%-16s' % 'Average word length', '%-16s' % avg)\n",
        "print ('%-16s' % 'Longest word', '%-16s' % stanza_words[np.argmax([len(word) for word in stanza_words])])"
      ],
      "metadata": {
        "colab": {
          "base_uri": "https://localhost:8080/"
        },
        "id": "qsah3wM97D_g",
        "outputId": "ddcc806c-6f7f-49bc-9538-bf6f89436f37"
      },
      "id": "qsah3wM97D_g",
      "execution_count": 68,
      "outputs": [
        {
          "output_type": "stream",
          "name": "stdout",
          "text": [
            "Number of words  104110          \n",
            "Number of unique words 12278           \n",
            "Average word length 3.7438574584574007\n",
            "Longest word     اسراییلیانند    \n"
          ]
        }
      ]
    },
    {
      "cell_type": "markdown",
      "id": "3a665ad5",
      "metadata": {
        "id": "3a665ad5"
      },
      "source": [
        "### TF/IDF Analysis Using First Tokenization Approach"
      ]
    },
    {
      "cell_type": "code",
      "execution_count": 69,
      "id": "d55f770c",
      "metadata": {
        "id": "d55f770c"
      },
      "outputs": [],
      "source": [
        "from sklearn.feature_extraction.text import TfidfVectorizer, CountVectorizer\n",
        "from sklearn.decomposition import NMF, LatentDirichletAllocation\n",
        "import matplotlib.pyplot as plt"
      ]
    },
    {
      "cell_type": "code",
      "execution_count": 70,
      "id": "b416ae99",
      "metadata": {
        "id": "b416ae99"
      },
      "outputs": [],
      "source": [
        "tfidf_vectorizer = TfidfVectorizer(\n",
        "    max_df=0.95, min_df=2, max_features=10000\n",
        ")"
      ]
    },
    {
      "cell_type": "code",
      "execution_count": 71,
      "id": "81393f00",
      "metadata": {
        "id": "81393f00"
      },
      "outputs": [],
      "source": [
        "tfidf = tfidf_vectorizer.fit_transform(all_words)"
      ]
    },
    {
      "cell_type": "code",
      "execution_count": 72,
      "id": "111192bf",
      "metadata": {
        "id": "111192bf"
      },
      "outputs": [],
      "source": [
        "tf_vectorizer = CountVectorizer(\n",
        "    max_df=0.95, min_df=2, max_features=10000\n",
        ")"
      ]
    },
    {
      "cell_type": "code",
      "execution_count": 73,
      "id": "0527dfd0",
      "metadata": {
        "id": "0527dfd0"
      },
      "outputs": [],
      "source": [
        "tf = tf_vectorizer.fit_transform(all_words)"
      ]
    },
    {
      "cell_type": "code",
      "execution_count": 74,
      "id": "ec3a8867",
      "metadata": {
        "id": "ec3a8867"
      },
      "outputs": [],
      "source": [
        "nmf = NMF(\n",
        "    n_components=10,\n",
        "    random_state=1,\n",
        "    beta_loss=\"kullback-leibler\",\n",
        "    solver=\"mu\",\n",
        "    max_iter=1000,\n",
        "    alpha_W=0.1,\n",
        "    alpha_H=0.1,\n",
        "    l1_ratio=0.5,\n",
        ")"
      ]
    },
    {
      "cell_type": "code",
      "execution_count": 75,
      "id": "e189a50c",
      "metadata": {
        "id": "e189a50c",
        "colab": {
          "base_uri": "https://localhost:8080/"
        },
        "outputId": "0cfa5289-6891-433a-af93-9892892d4351"
      },
      "outputs": [
        {
          "output_type": "stream",
          "name": "stderr",
          "text": [
            "/usr/local/lib/python3.7/dist-packages/sklearn/decomposition/_nmf.py:294: FutureWarning: The 'init' value, when 'init=None' and n_components is less than n_samples and n_features, will be changed from 'nndsvd' to 'nndsvda' in 1.1 (renaming of 0.26).\n",
            "  FutureWarning,\n"
          ]
        }
      ],
      "source": [
        "W = nmf.fit_transform(tfidf)"
      ]
    },
    {
      "cell_type": "code",
      "execution_count": 76,
      "id": "15791256",
      "metadata": {
        "id": "15791256"
      },
      "outputs": [],
      "source": [
        "H = nmf.components_"
      ]
    },
    {
      "cell_type": "code",
      "execution_count": 77,
      "id": "5ba61632",
      "metadata": {
        "id": "5ba61632",
        "colab": {
          "base_uri": "https://localhost:8080/"
        },
        "outputId": "8c5b98ae-6313-46c6-bebd-45eeb176a589"
      },
      "outputs": [
        {
          "output_type": "execute_result",
          "data": {
            "text/plain": [
              "(10, 10000)"
            ]
          },
          "metadata": {},
          "execution_count": 77
        }
      ],
      "source": [
        "H.shape"
      ]
    },
    {
      "cell_type": "code",
      "execution_count": 78,
      "id": "88f5565b",
      "metadata": {
        "id": "88f5565b"
      },
      "outputs": [],
      "source": [
        "tfidf_feature_names = tfidf_vectorizer.get_feature_names_out()"
      ]
    },
    {
      "cell_type": "code",
      "execution_count": 79,
      "id": "84d5c149",
      "metadata": {
        "id": "84d5c149"
      },
      "outputs": [],
      "source": [
        "tfidf_feature_names = [make_farsi_text(t) for t in tfidf_feature_names]"
      ]
    },
    {
      "cell_type": "code",
      "execution_count": 80,
      "id": "b4ed3f23",
      "metadata": {
        "id": "b4ed3f23",
        "colab": {
          "base_uri": "https://localhost:8080/",
          "height": 695
        },
        "outputId": "a14700f3-4e88-4131-d3da-668d69fa016f"
      },
      "outputs": [
        {
          "output_type": "display_data",
          "data": {
            "image/png": "[encoded data removed]",
            "text/plain": [
              "<Figure size 2160x1080 with 10 Axes>"
            ]
          },
          "metadata": {
            "needs_background": "light"
          }
        }
      ],
      "source": [
        "plot_top_words(\n",
        "    nmf,\n",
        "    tfidf_feature_names,\n",
        "    10,\n",
        "    \"Topics in NMF model\",\n",
        ")"
      ]
    },
    {
      "cell_type": "code",
      "execution_count": 81,
      "id": "5a3ec610",
      "metadata": {
        "id": "5a3ec610"
      },
      "outputs": [],
      "source": [
        "lda = LatentDirichletAllocation(\n",
        "    n_components=10,\n",
        "    max_iter=5,\n",
        "    learning_method=\"online\",\n",
        "    learning_offset=50.0,\n",
        "    random_state=0\n",
        ")"
      ]
    },
    {
      "cell_type": "code",
      "execution_count": 82,
      "id": "83c78cb2",
      "metadata": {
        "id": "83c78cb2",
        "colab": {
          "base_uri": "https://localhost:8080/"
        },
        "outputId": "896bf8d7-a67c-4403-c9ce-98bfad58a44e"
      },
      "outputs": [
        {
          "output_type": "execute_result",
          "data": {
            "text/plain": [
              "LatentDirichletAllocation(learning_method='online', learning_offset=50.0,\n",
              "                          max_iter=5, random_state=0)"
            ]
          },
          "metadata": {},
          "execution_count": 82
        }
      ],
      "source": [
        "lda.fit(tf)"
      ]
    },
    {
      "cell_type": "code",
      "execution_count": 83,
      "id": "f4cbacea",
      "metadata": {
        "id": "f4cbacea"
      },
      "outputs": [],
      "source": [
        "tf_feature_names = tf_vectorizer.get_feature_names_out()"
      ]
    },
    {
      "cell_type": "code",
      "execution_count": 84,
      "id": "ed16ecf1",
      "metadata": {
        "id": "ed16ecf1"
      },
      "outputs": [],
      "source": [
        "tf_feature_names = [make_farsi_text(t) for t in tf_feature_names]"
      ]
    },
    {
      "cell_type": "code",
      "execution_count": 85,
      "id": "ff6e720a",
      "metadata": {
        "id": "ff6e720a"
      },
      "outputs": [],
      "source": [
        "top_words = 10"
      ]
    },
    {
      "cell_type": "code",
      "execution_count": 86,
      "id": "5872a2d7",
      "metadata": {
        "id": "5872a2d7",
        "colab": {
          "base_uri": "https://localhost:8080/",
          "height": 697
        },
        "outputId": "091edeb6-15f1-4da1-ab6f-bfe8927419e2"
      },
      "outputs": [
        {
          "output_type": "display_data",
          "data": {
            "image/png": "[encoded data removed]",
            "text/plain": [
              "<Figure size 2160x1080 with 10 Axes>"
            ]
          },
          "metadata": {
            "needs_background": "light"
          }
        }
      ],
      "source": [
        "plot_top_words(lda, tf_feature_names, top_words, \"Topics in LDA model\")"
      ]
    },
    {
      "cell_type": "markdown",
      "metadata": {
        "id": "2r6ql4447xGH"
      },
      "source": [
        "### TF/IDF Analysis Using Stanza Approach"
      ],
      "id": "2r6ql4447xGH"
    },
    {
      "cell_type": "code",
      "execution_count": 87,
      "metadata": {
        "id": "rQk0-_aj7xGI"
      },
      "outputs": [],
      "source": [
        "from sklearn.feature_extraction.text import TfidfVectorizer, CountVectorizer\n",
        "from sklearn.decomposition import NMF, LatentDirichletAllocation\n",
        "import matplotlib.pyplot as plt"
      ],
      "id": "rQk0-_aj7xGI"
    },
    {
      "cell_type": "code",
      "execution_count": 88,
      "metadata": {
        "id": "ezIbK12I7xGI"
      },
      "outputs": [],
      "source": [
        "tfidf_vectorizer = TfidfVectorizer(\n",
        "    max_df=0.95, min_df=2, max_features=10000\n",
        ")"
      ],
      "id": "ezIbK12I7xGI"
    },
    {
      "cell_type": "code",
      "execution_count": 89,
      "metadata": {
        "id": "jxNZTsvM7xGI"
      },
      "outputs": [],
      "source": [
        "tfidf = tfidf_vectorizer.fit_transform(stanza_words)"
      ],
      "id": "jxNZTsvM7xGI"
    },
    {
      "cell_type": "code",
      "execution_count": 90,
      "metadata": {
        "id": "LrZwvL-A7xGI"
      },
      "outputs": [],
      "source": [
        "tf_vectorizer = CountVectorizer(\n",
        "    max_df=0.95, min_df=2, max_features=10000\n",
        ")"
      ],
      "id": "LrZwvL-A7xGI"
    },
    {
      "cell_type": "code",
      "execution_count": 91,
      "metadata": {
        "id": "mScJgxrP7xGJ"
      },
      "outputs": [],
      "source": [
        "tf = tf_vectorizer.fit_transform(stanza_words)"
      ],
      "id": "mScJgxrP7xGJ"
    },
    {
      "cell_type": "code",
      "execution_count": 92,
      "metadata": {
        "id": "gu3FISLU7xGJ"
      },
      "outputs": [],
      "source": [
        "nmf = NMF(\n",
        "    n_components=10,\n",
        "    random_state=1,\n",
        "    beta_loss=\"kullback-leibler\",\n",
        "    solver=\"mu\",\n",
        "    max_iter=1000,\n",
        "    alpha_W=0.1,\n",
        "    alpha_H=0.1,\n",
        "    l1_ratio=0.5,\n",
        ")"
      ],
      "id": "gu3FISLU7xGJ"
    },
    {
      "cell_type": "code",
      "execution_count": 93,
      "metadata": {
        "colab": {
          "base_uri": "https://localhost:8080/"
        },
        "outputId": "5da8dcfb-f639-40cf-8e8c-7279f1a44470",
        "id": "GKD9-ZbO7xGJ"
      },
      "outputs": [
        {
          "output_type": "stream",
          "name": "stderr",
          "text": [
            "/usr/local/lib/python3.7/dist-packages/sklearn/decomposition/_nmf.py:294: FutureWarning: The 'init' value, when 'init=None' and n_components is less than n_samples and n_features, will be changed from 'nndsvd' to 'nndsvda' in 1.1 (renaming of 0.26).\n",
            "  FutureWarning,\n"
          ]
        }
      ],
      "source": [
        "W = nmf.fit_transform(tfidf)"
      ],
      "id": "GKD9-ZbO7xGJ"
    },
    {
      "cell_type": "code",
      "execution_count": 94,
      "metadata": {
        "id": "vNlzzrW17xGJ"
      },
      "outputs": [],
      "source": [
        "H = nmf.components_"
      ],
      "id": "vNlzzrW17xGJ"
    },
    {
      "cell_type": "code",
      "execution_count": 95,
      "metadata": {
        "colab": {
          "base_uri": "https://localhost:8080/"
        },
        "outputId": "aa379fe9-1a07-4f95-bad5-3152fd89333e",
        "id": "AARm3TQC7xGK"
      },
      "outputs": [
        {
          "output_type": "execute_result",
          "data": {
            "text/plain": [
              "(10, 6487)"
            ]
          },
          "metadata": {},
          "execution_count": 95
        }
      ],
      "source": [
        "H.shape"
      ],
      "id": "AARm3TQC7xGK"
    },
    {
      "cell_type": "code",
      "execution_count": 96,
      "metadata": {
        "id": "RRgFfq2a7xGK"
      },
      "outputs": [],
      "source": [
        "tfidf_feature_names = tfidf_vectorizer.get_feature_names_out()"
      ],
      "id": "RRgFfq2a7xGK"
    },
    {
      "cell_type": "code",
      "execution_count": 97,
      "metadata": {
        "id": "8sXeabtx7xGK"
      },
      "outputs": [],
      "source": [
        "tfidf_feature_names = [make_farsi_text(t) for t in tfidf_feature_names]"
      ],
      "id": "8sXeabtx7xGK"
    },
    {
      "cell_type": "code",
      "execution_count": 98,
      "metadata": {
        "colab": {
          "base_uri": "https://localhost:8080/",
          "height": 701
        },
        "id": "ehlTSrOV7xGK",
        "outputId": "ceb88738-821d-42ef-d6a7-20b80ca6063c"
      },
      "outputs": [
        {
          "output_type": "display_data",
          "data": {
            "image/png": "[encoded data removed]",
            "text/plain": [
              "<Figure size 2160x1080 with 10 Axes>"
            ]
          },
          "metadata": {
            "needs_background": "light"
          }
        }
      ],
      "source": [
        "plot_top_words(\n",
        "    nmf,\n",
        "    tfidf_feature_names,\n",
        "    10,\n",
        "    \"Topics with NFM Using Stanza Model\",\n",
        ")"
      ],
      "id": "ehlTSrOV7xGK"
    },
    {
      "cell_type": "code",
      "execution_count": 99,
      "metadata": {
        "id": "fFim-0rE7xGK"
      },
      "outputs": [],
      "source": [
        "lda = LatentDirichletAllocation(\n",
        "    n_components=10,\n",
        "    max_iter=5,\n",
        "    learning_method=\"online\",\n",
        "    learning_offset=50.0,\n",
        "    random_state=0\n",
        ")"
      ],
      "id": "fFim-0rE7xGK"
    },
    {
      "cell_type": "code",
      "execution_count": 100,
      "metadata": {
        "colab": {
          "base_uri": "https://localhost:8080/"
        },
        "id": "RLksVsrb7xGK",
        "outputId": "15ceefb9-bf9b-4892-abb9-aac691912a78"
      },
      "outputs": [
        {
          "output_type": "execute_result",
          "data": {
            "text/plain": [
              "LatentDirichletAllocation(learning_method='online', learning_offset=50.0,\n",
              "                          max_iter=5, random_state=0)"
            ]
          },
          "metadata": {},
          "execution_count": 100
        }
      ],
      "source": [
        "lda.fit(tf)"
      ],
      "id": "RLksVsrb7xGK"
    },
    {
      "cell_type": "code",
      "execution_count": 101,
      "metadata": {
        "id": "U1asMfGJ7xGK"
      },
      "outputs": [],
      "source": [
        "tf_feature_names = tf_vectorizer.get_feature_names_out()"
      ],
      "id": "U1asMfGJ7xGK"
    },
    {
      "cell_type": "code",
      "execution_count": 102,
      "metadata": {
        "id": "HPMoWf6O7xGL"
      },
      "outputs": [],
      "source": [
        "tf_feature_names = [make_farsi_text(t) for t in tf_feature_names]"
      ],
      "id": "HPMoWf6O7xGL"
    },
    {
      "cell_type": "code",
      "execution_count": 103,
      "metadata": {
        "id": "qNTLrLpw7xGL"
      },
      "outputs": [],
      "source": [
        "top_words = 10"
      ],
      "id": "qNTLrLpw7xGL"
    },
    {
      "cell_type": "code",
      "execution_count": 104,
      "metadata": {
        "colab": {
          "base_uri": "https://localhost:8080/",
          "height": 704
        },
        "id": "ArxipwZW7xGL",
        "outputId": "7c0a6936-009a-44e6-91b1-46c54546f720"
      },
      "outputs": [
        {
          "output_type": "display_data",
          "data": {
            "image/png": "[encoded data removed]",
            "text/plain": [
              "<Figure size 2160x1080 with 10 Axes>"
            ]
          },
          "metadata": {
            "needs_background": "light"
          }
        }
      ],
      "source": [
        "plot_top_words(lda, tf_feature_names, top_words, \"Topics with LDA algorithm Using Stanza Model\")"
      ],
      "id": "ArxipwZW7xGL"
    },
    {
      "cell_type": "markdown",
      "id": "850143f7",
      "metadata": {
        "id": "850143f7"
      },
      "source": [
        "### Plot frequent words by Daftar Number"
      ]
    },
    {
      "cell_type": "code",
      "execution_count": 105,
      "id": "53a26fde",
      "metadata": {
        "id": "53a26fde"
      },
      "outputs": [],
      "source": [
        "freq_df = pd.DataFrame(columns=['index', 'Freq', 'Daftar'])\n",
        "for i in range(1,7):\n",
        "    freq_dict = nltk.FreqDist(chain(*masnavi_df[masnavi_df['Daftar'] == i]['Couplet_tokenized']))\n",
        "    freq_dict = pd.DataFrame.from_dict(freq_dict, orient='index', columns=['Freq'])\n",
        "    freq_dict['Daftar'] = [i] * freq_dict.shape[0]\n",
        "    freq_dict.reset_index(level=0, inplace=True)\n",
        "    freq_dict['index'] = freq_dict['index'].apply(lambda x: make_farsi_text(x))\n",
        "    freq_df = pd.concat([freq_df, freq_dict])"
      ]
    },
    {
      "cell_type": "code",
      "execution_count": 106,
      "id": "a382a559",
      "metadata": {
        "id": "a382a559"
      },
      "outputs": [],
      "source": [
        "freq_df = freq_df[freq_df['Freq']> 100]"
      ]
    },
    {
      "cell_type": "code",
      "execution_count": 107,
      "id": "2f647787",
      "metadata": {
        "id": "2f647787",
        "colab": {
          "base_uri": "https://localhost:8080/",
          "height": 603
        },
        "outputId": "1e9cc01f-3cc2-48d3-cae0-1f13d6db80b8"
      },
      "outputs": [
        {
          "output_type": "execute_result",
          "data": {
            "text/plain": [
              "<seaborn.axisgrid.FacetGrid at 0x7f9a48d92290>"
            ]
          },
          "metadata": {},
          "execution_count": 107
        },
        {
          "output_type": "display_data",
          "data": {
            "image/png": "[encoded data removed]",
            "text/plain": [
              "<Figure size 864x576 with 6 Axes>"
            ]
          },
          "metadata": {
            "needs_background": "light"
          }
        }
      ],
      "source": [
        "g = sns.FacetGrid(freq_df, col=\"Daftar\", height=4, aspect=1, col_wrap=3)\n",
        "g.set_xticklabels(rotation=30)\n",
        "g.map(sns.barplot, \"index\", \"Freq\", order=list(set(freq_df['index'])))"
      ]
    }
  ],
  "metadata": {
    "kernelspec": {
      "display_name": "Python 3 (ipykernel)",
      "language": "python",
      "name": "python3"
    },
    "language_info": {
      "codemirror_mode": {
        "name": "ipython",
        "version": 3
      },
      "file_extension": ".py",
      "mimetype": "text/x-python",
      "name": "python",
      "nbconvert_exporter": "python",
      "pygments_lexer": "ipython3",
      "version": "3.8.11"
    },
    "colab": {
      "name": "preprocess_poem.ipynb",
      "provenance": [],
      "collapsed_sections": []
    },
    "widgets": {
      "application/vnd.jupyter.widget-state+json": {
        "8627ac56cca847f7872cc4d7ece41b3f": {
          "model_module": "@jupyter-widgets/controls",
          "model_name": "HBoxModel",
          "model_module_version": "1.5.0",
          "state": {
            "_view_name": "HBoxView",
            "_dom_classes": [],
            "_model_name": "HBoxModel",
            "_view_module": "@jupyter-widgets/controls",
            "_model_module_version": "1.5.0",
            "_view_count": null,
            "_view_module_version": "1.5.0",
            "box_style": "",
            "layout": "IPY_MODEL_02b93b361c77408cb2a468aa503474ba",
            "_model_module": "@jupyter-widgets/controls",
            "children": [
              "IPY_MODEL_2e87b297dcdf4ddda050b006358d7adf",
              "IPY_MODEL_d9729bfae35d4f4bbb15d2041f7e5dc6",
              "IPY_MODEL_a543a08413a2449f899517c2663c8cb7"
            ]
          }
        },
        "02b93b361c77408cb2a468aa503474ba": {
          "model_module": "@jupyter-widgets/base",
          "model_name": "LayoutModel",
          "model_module_version": "1.2.0",
          "state": {
            "_view_name": "LayoutView",
            "grid_template_rows": null,
            "right": null,
            "justify_content": null,
            "_view_module": "@jupyter-widgets/base",
            "overflow": null,
            "_model_module_version": "1.2.0",
            "_view_count": null,
            "flex_flow": null,
            "width": null,
            "min_width": null,
            "border": null,
            "align_items": null,
            "bottom": null,
            "_model_module": "@jupyter-widgets/base",
            "top": null,
            "grid_column": null,
            "overflow_y": null,
            "overflow_x": null,
            "grid_auto_flow": null,
            "grid_area": null,
            "grid_template_columns": null,
            "flex": null,
            "_model_name": "LayoutModel",
            "justify_items": null,
            "grid_row": null,
            "max_height": null,
            "align_content": null,
            "visibility": null,
            "align_self": null,
            "height": null,
            "min_height": null,
            "padding": null,
            "grid_auto_rows": null,
            "grid_gap": null,
            "max_width": null,
            "order": null,
            "_view_module_version": "1.2.0",
            "grid_template_areas": null,
            "object_position": null,
            "object_fit": null,
            "grid_auto_columns": null,
            "margin": null,
            "display": null,
            "left": null
          }
        },
        "2e87b297dcdf4ddda050b006358d7adf": {
          "model_module": "@jupyter-widgets/controls",
          "model_name": "HTMLModel",
          "model_module_version": "1.5.0",
          "state": {
            "_view_name": "HTMLView",
            "style": "IPY_MODEL_7490ff0b10694655ae0bc2e86f92ce31",
            "_dom_classes": [],
            "description": "",
            "_model_name": "HTMLModel",
            "placeholder": "​",
            "_view_module": "@jupyter-widgets/controls",
            "_model_module_version": "1.5.0",
            "value": "Downloading https://raw.githubusercontent.com/stanfordnlp/stanza-resources/main/resources_1.3.0.json: ",
            "_view_count": null,
            "_view_module_version": "1.5.0",
            "description_tooltip": null,
            "_model_module": "@jupyter-widgets/controls",
            "layout": "IPY_MODEL_bafdb154432a4bde94dc2d79a8864f24"
          }
        },
        "d9729bfae35d4f4bbb15d2041f7e5dc6": {
          "model_module": "@jupyter-widgets/controls",
          "model_name": "FloatProgressModel",
          "model_module_version": "1.5.0",
          "state": {
            "_view_name": "ProgressView",
            "style": "IPY_MODEL_a75623d756934ab5a581ef0412eeb0c6",
            "_dom_classes": [],
            "description": "",
            "_model_name": "FloatProgressModel",
            "bar_style": "success",
            "max": 24459,
            "_view_module": "@jupyter-widgets/controls",
            "_model_module_version": "1.5.0",
            "value": 24459,
            "_view_count": null,
            "_view_module_version": "1.5.0",
            "orientation": "horizontal",
            "min": 0,
            "description_tooltip": null,
            "_model_module": "@jupyter-widgets/controls",
            "layout": "IPY_MODEL_d0b6e3c1cd364dbeb5a0fb3e555ec8e0"
          }
        },
        "a543a08413a2449f899517c2663c8cb7": {
          "model_module": "@jupyter-widgets/controls",
          "model_name": "HTMLModel",
          "model_module_version": "1.5.0",
          "state": {
            "_view_name": "HTMLView",
            "style": "IPY_MODEL_7960c56b1bcd4831b59196188fd29e1e",
            "_dom_classes": [],
            "description": "",
            "_model_name": "HTMLModel",
            "placeholder": "​",
            "_view_module": "@jupyter-widgets/controls",
            "_model_module_version": "1.5.0",
            "value": " 142k/? [00:00&lt;00:00, 2.75MB/s]",
            "_view_count": null,
            "_view_module_version": "1.5.0",
            "description_tooltip": null,
            "_model_module": "@jupyter-widgets/controls",
            "layout": "IPY_MODEL_6a7e67f40c884fe0937dbaddaf33d00b"
          }
        },
        "7490ff0b10694655ae0bc2e86f92ce31": {
          "model_module": "@jupyter-widgets/controls",
          "model_name": "DescriptionStyleModel",
          "model_module_version": "1.5.0",
          "state": {
            "_view_name": "StyleView",
            "_model_name": "DescriptionStyleModel",
            "description_width": "",
            "_view_module": "@jupyter-widgets/base",
            "_model_module_version": "1.5.0",
            "_view_count": null,
            "_view_module_version": "1.2.0",
            "_model_module": "@jupyter-widgets/controls"
          }
        },
        "bafdb154432a4bde94dc2d79a8864f24": {
          "model_module": "@jupyter-widgets/base",
          "model_name": "LayoutModel",
          "model_module_version": "1.2.0",
          "state": {
            "_view_name": "LayoutView",
            "grid_template_rows": null,
            "right": null,
            "justify_content": null,
            "_view_module": "@jupyter-widgets/base",
            "overflow": null,
            "_model_module_version": "1.2.0",
            "_view_count": null,
            "flex_flow": null,
            "width": null,
            "min_width": null,
            "border": null,
            "align_items": null,
            "bottom": null,
            "_model_module": "@jupyter-widgets/base",
            "top": null,
            "grid_column": null,
            "overflow_y": null,
            "overflow_x": null,
            "grid_auto_flow": null,
            "grid_area": null,
            "grid_template_columns": null,
            "flex": null,
            "_model_name": "LayoutModel",
            "justify_items": null,
            "grid_row": null,
            "max_height": null,
            "align_content": null,
            "visibility": null,
            "align_self": null,
            "height": null,
            "min_height": null,
            "padding": null,
            "grid_auto_rows": null,
            "grid_gap": null,
            "max_width": null,
            "order": null,
            "_view_module_version": "1.2.0",
            "grid_template_areas": null,
            "object_position": null,
            "object_fit": null,
            "grid_auto_columns": null,
            "margin": null,
            "display": null,
            "left": null
          }
        },
        "a75623d756934ab5a581ef0412eeb0c6": {
          "model_module": "@jupyter-widgets/controls",
          "model_name": "ProgressStyleModel",
          "model_module_version": "1.5.0",
          "state": {
            "_view_name": "StyleView",
            "_model_name": "ProgressStyleModel",
            "description_width": "",
            "_view_module": "@jupyter-widgets/base",
            "_model_module_version": "1.5.0",
            "_view_count": null,
            "_view_module_version": "1.2.0",
            "bar_color": null,
            "_model_module": "@jupyter-widgets/controls"
          }
        },
        "d0b6e3c1cd364dbeb5a0fb3e555ec8e0": {
          "model_module": "@jupyter-widgets/base",
          "model_name": "LayoutModel",
          "model_module_version": "1.2.0",
          "state": {
            "_view_name": "LayoutView",
            "grid_template_rows": null,
            "right": null,
            "justify_content": null,
            "_view_module": "@jupyter-widgets/base",
            "overflow": null,
            "_model_module_version": "1.2.0",
            "_view_count": null,
            "flex_flow": null,
            "width": null,
            "min_width": null,
            "border": null,
            "align_items": null,
            "bottom": null,
            "_model_module": "@jupyter-widgets/base",
            "top": null,
            "grid_column": null,
            "overflow_y": null,
            "overflow_x": null,
            "grid_auto_flow": null,
            "grid_area": null,
            "grid_template_columns": null,
            "flex": null,
            "_model_name": "LayoutModel",
            "justify_items": null,
            "grid_row": null,
            "max_height": null,
            "align_content": null,
            "visibility": null,
            "align_self": null,
            "height": null,
            "min_height": null,
            "padding": null,
            "grid_auto_rows": null,
            "grid_gap": null,
            "max_width": null,
            "order": null,
            "_view_module_version": "1.2.0",
            "grid_template_areas": null,
            "object_position": null,
            "object_fit": null,
            "grid_auto_columns": null,
            "margin": null,
            "display": null,
            "left": null
          }
        },
        "7960c56b1bcd4831b59196188fd29e1e": {
          "model_module": "@jupyter-widgets/controls",
          "model_name": "DescriptionStyleModel",
          "model_module_version": "1.5.0",
          "state": {
            "_view_name": "StyleView",
            "_model_name": "DescriptionStyleModel",
            "description_width": "",
            "_view_module": "@jupyter-widgets/base",
            "_model_module_version": "1.5.0",
            "_view_count": null,
            "_view_module_version": "1.2.0",
            "_model_module": "@jupyter-widgets/controls"
          }
        },
        "6a7e67f40c884fe0937dbaddaf33d00b": {
          "model_module": "@jupyter-widgets/base",
          "model_name": "LayoutModel",
          "model_module_version": "1.2.0",
          "state": {
            "_view_name": "LayoutView",
            "grid_template_rows": null,
            "right": null,
            "justify_content": null,
            "_view_module": "@jupyter-widgets/base",
            "overflow": null,
            "_model_module_version": "1.2.0",
            "_view_count": null,
            "flex_flow": null,
            "width": null,
            "min_width": null,
            "border": null,
            "align_items": null,
            "bottom": null,
            "_model_module": "@jupyter-widgets/base",
            "top": null,
            "grid_column": null,
            "overflow_y": null,
            "overflow_x": null,
            "grid_auto_flow": null,
            "grid_area": null,
            "grid_template_columns": null,
            "flex": null,
            "_model_name": "LayoutModel",
            "justify_items": null,
            "grid_row": null,
            "max_height": null,
            "align_content": null,
            "visibility": null,
            "align_self": null,
            "height": null,
            "min_height": null,
            "padding": null,
            "grid_auto_rows": null,
            "grid_gap": null,
            "max_width": null,
            "order": null,
            "_view_module_version": "1.2.0",
            "grid_template_areas": null,
            "object_position": null,
            "object_fit": null,
            "grid_auto_columns": null,
            "margin": null,
            "display": null,
            "left": null
          }
        }
      }
    }
  },
  "nbformat": 4,
  "nbformat_minor": 5
}